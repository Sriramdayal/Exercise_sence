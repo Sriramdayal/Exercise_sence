{
  "cells": [
    {
      "cell_type": "markdown",
      "metadata": {
        "id": "view-in-github",
        "colab_type": "text"
      },
      "source": [
        "<a href=\"https://colab.research.google.com/github/Sriramdayal/Exercise_sence/blob/main/Train_YOLO_Models.ipynb\" target=\"_parent\"><img src=\"https://colab.research.google.com/assets/colab-badge.svg\" alt=\"Open In Colab\"/></a>"
      ]
    },
    {
      "cell_type": "markdown",
      "metadata": {
        "id": "1sUfcA8ZgR2t"
      },
      "source": [
        "# Train YOLO Models in Google Colab\n",
        "**Author:** Evan Juras, [EJ Technology Consultants](https://ejtech.io)\n",
        "\n",
        "**Last updated:** January 3, 2025\n",
        "\n",
        "**GitHub:** [Train and Deploy YOLO Models](https://github.com/EdjeElectronics/Train-and-Deploy-YOLO-Models)\n",
        "\n",
        "# Introduction\n",
        "\n",
        "This notebook uses [Ultralytics](https://docs.ultralytics.com/) to train YOLO11, YOLOv8, or YOLOv5 object detection models with a custom dataset. At the end of this Colab, you'll have a custom YOLO model that you can run on your PC, phone, or edge device like the Raspberry Pi.\n",
        "\n",
        "<p align=center>\n",
        "<img src=\"https://s3.us-west-1.amazonaws.com/evanjuras.com/img/yolo-model-demo.gif\" height=\"360\"><br>\n",
        "<i>Custom YOLO candy detection model in action!</i>\n",
        "</p>\n",
        "\n",
        "I created a YouTube video that walks through this guide step by step. I recommend following along with the video while working through this notebook.\n",
        "\n",
        "<p align=center>\n",
        "<a href=\"https://youtu.be/r0RspiLG260\" target=\"_blank\"><img src=\"https://raw.githubusercontent.com/EdjeElectronics/Train-and-Deploy-YOLO-Models/refs/heads/main/doc/Train_YOLO_Thumbnail2.png\" height=\"240\"><br>\n",
        "<i>Click here to go to the video!</i></a>\n",
        "</p>\n",
        "\n",
        "**Important note: This notebook will be continuously updated to make sure it works with newer versions of Ultralytics and YOLO. If you see any differences between the YouTube video and this notebook, always follow the notebook!**\n",
        "\n",
        "### Working in Colab\n",
        "Colab provides a virtual machine in your browser complete with a Linux OS, filesystem, Python environment, and best of all, a free GPU. We'll install PyTorch and Ultralytics in this environment and use it to train our model. Simply click the Play button on sections of code in this notebook to execute them on the virtual machine.\n",
        "\n",
        "### Navigation\n",
        "To navigate this notebook, use the table of contents in the left sidebar to jump from section to section.\n",
        "\n",
        "\n",
        "\n"
      ]
    },
    {
      "cell_type": "markdown",
      "source": [
        "**Verify NVIDIA GPU Availability**\n",
        "\n",
        "Make sure you're using a GPU-equipped machine by going to \"Runtime\" -> \"Change runtime type\" in the top menu bar, and then selecting one of the GPU options in the Hardware accelerator section. Click Play on the following code block to verify that the NVIDIA GPU is present and ready for training."
      ],
      "metadata": {
        "id": "3NW7LLv_QPOO"
      }
    },
    {
      "cell_type": "code",
      "source": [
        "!nvidia-smi"
      ],
      "metadata": {
        "id": "cfaWho47RGDf",
        "outputId": "b645985c-2984-4621-f824-21ec182e5ad4",
        "colab": {
          "base_uri": "https://localhost:8080/"
        }
      },
      "execution_count": 1,
      "outputs": [
        {
          "output_type": "stream",
          "name": "stdout",
          "text": [
            "Fri Oct 17 09:11:21 2025       \n",
            "+-----------------------------------------------------------------------------------------+\n",
            "| NVIDIA-SMI 550.54.15              Driver Version: 550.54.15      CUDA Version: 12.4     |\n",
            "|-----------------------------------------+------------------------+----------------------+\n",
            "| GPU  Name                 Persistence-M | Bus-Id          Disp.A | Volatile Uncorr. ECC |\n",
            "| Fan  Temp   Perf          Pwr:Usage/Cap |           Memory-Usage | GPU-Util  Compute M. |\n",
            "|                                         |                        |               MIG M. |\n",
            "|=========================================+========================+======================|\n",
            "|   0  Tesla T4                       Off |   00000000:00:04.0 Off |                    0 |\n",
            "| N/A   40C    P8              9W /   70W |       0MiB /  15360MiB |      0%      Default |\n",
            "|                                         |                        |                  N/A |\n",
            "+-----------------------------------------+------------------------+----------------------+\n",
            "                                                                                         \n",
            "+-----------------------------------------------------------------------------------------+\n",
            "| Processes:                                                                              |\n",
            "|  GPU   GI   CI        PID   Type   Process name                              GPU Memory |\n",
            "|        ID   ID                                                               Usage      |\n",
            "|=========================================================================================|\n",
            "|  No running processes found                                                             |\n",
            "+-----------------------------------------------------------------------------------------+\n"
          ]
        }
      ]
    },
    {
      "cell_type": "markdown",
      "metadata": {
        "id": "TIHu25pnjjJ1"
      },
      "source": [
        "#1.&nbsp;Gather and Label Training Images"
      ]
    },
    {
      "cell_type": "markdown",
      "metadata": {
        "id": "O6Y1vBiRjpcq"
      },
      "source": [
        "Before we start training, we need to gather and label images that will be used for training the object detection model. A good starting point for a proof-of-concept model is 200 images. The training images should have random objects in the image along with the desired objects, and should have a variety of backgrounds and lighting conditions.\n",
        "\n",
        "There are a couple options for gathering images:\n",
        "\n",
        "\n",
        "*   Build a custom dataset by taking your own pictures of the objects and labeling them (this typically results in the best performance)\n",
        "*   Find a pre-made dataset from sources like [Roboflow Universe](), [Kaggle](), or [Google Images V7]()\n",
        "\n",
        "\n",
        "If you want to build your own dataset, there are several tools available for labeling images. One good option is [Label Studio](https://labelstud.io/?utm_source=youtube&utm_medium=video&utm_campaign=edjeelectronics), a free and open-source labeling tool that has a simple workflow while providing capabilities for more advanced features. My YouTube video that walks through this notebook (link to be added soon) shows how to label images with Label Studio.\n",
        "\n",
        "<p align=center>\n",
        "<img src=\"https://raw.githubusercontent.com/EdjeElectronics/Train-and-Deploy-YOLO-Models/refs/heads/main/doc/label-studio-example.PNG\" height=\"380\"><br>\n",
        "<i>Example of a candy image labeled with Label Studio.</i>\n",
        "</p>\n",
        "\n",
        "If you used Label Studio to label and export the images, they'll be exported in a `project.zip` file that contains the following:\n",
        "\n",
        "- An `images` folder containing the images\n",
        "- A `labels` folder containing the labels in YOLO annotation format\n",
        "- A `classes.txt` labelmap file that contains all the classes\n",
        "- A `notes.json` file that contains info specific to Label Studio (this file can be ignored)\n",
        "\n",
        "If you obtained your dataset from another source (like Roboflow Universe) or used another tool to label your dataset, make sure the files are organized in the same folder structure.\n",
        "\n",
        "<p align=center>\n",
        "<img src=\"https://raw.githubusercontent.com/EdjeElectronics/Train-and-Deploy-YOLO-Models/refs/heads/main/doc/zipped-data-example.png\" height=\"\"><br>\n",
        "<i>Organize your data in the folders shown here. See my <a href=\"https://s3.us-west-1.amazonaws.com/evanjuras.com/resources/candy_data_06JAN25.zip\">Candy Detection Dataset</a> for an example.</i>\n",
        "</p>\n",
        "\n",
        "Once you've got your dataset built, put into the file structure shown above, and zipped into `data.zip`, you're ready to move on to the next step."
      ]
    },
    {
      "cell_type": "markdown",
      "metadata": {
        "id": "8eDhuvzDfIFS"
      },
      "source": [
        "# 2.&nbsp;Upload Image Dataset and Prepare Training Data"
      ]
    },
    {
      "cell_type": "markdown",
      "metadata": {
        "id": "ZW_0c110fOiz"
      },
      "source": [
        "Next, we'll upload our dataset and prepare it for training with YOLO. We'll split the dataset into train and validation folders, and we'll automatically generate the configuration file for training the model."
      ]
    },
    {
      "cell_type": "markdown",
      "source": [
        "## 2.1 Upload images\n",
        "\n",
        "First, we need to upload the dataset to Colab. Here are a few options for moving the `data.zip` folder into this Colab instance."
      ],
      "metadata": {
        "id": "FwKAqFIQSBpn"
      }
    },
    {
      "cell_type": "markdown",
      "source": [
        "**Option 1. Upload through Google Colab**\n",
        "\n",
        "Upload the `data.zip` file to the Google Colab instance by clicking the \"Files\" icon on the left hand side of the browser, and then the \"Upload to session storage\" icon. Select the zip folder to upload it.\n",
        "\n",
        "<p>\n",
        "<br>\n",
        "<img src=\"https://raw.githubusercontent.com/EdjeElectronics/Train-and-Deploy-YOLO-Models/refs/heads/main/doc/upload-colab-files.png\" height=\"240\">\n",
        "</p>\n"
      ],
      "metadata": {
        "id": "ZPZEM27IOh79"
      }
    },
    {
      "cell_type": "markdown",
      "source": [
        "\n",
        "**Option 2. Copy from Google Drive**\n",
        "\n",
        "You can also upload your images to your personal Google Drive, mount the drive on this Colab session, and copy them over to the Colab filesystem. This option works well if you want to upload the images beforehand so you don't have to wait for them to upload each time you restart this Colab. If you have more than 50MB worth of images, I recommend using this option.\n",
        "\n",
        "First, upload the `data.zip` file to your Google Drive, and make note of the folder you uploaded them to. Replace `MyDrive/path/to/data.zip` with the path to your zip file. (For example, I uploaded the zip file to folder called \"candy-dataset1\", so I would use `MyDrive/candy-dataset1/data.zip` for the path). Then, run the following block of code to mount your Google Drive to this Colab session and copy the folder to this filesystem."
      ],
      "metadata": {
        "id": "TC4bZM1UWRdY"
      }
    },
    {
      "cell_type": "code",
      "source": [
        "!pip install roboflow\n",
        "\n",
        "from roboflow import Roboflow\n",
        "rf = Roboflow(api_key=\"DnR0RI7F9XLWcA9vsWmz\")\n",
        "project = rf.workspace(\"reidentification-elkzo\").project(\"litter-detection-pbz2j-zmeqr\")\n",
        "version = project.version(1)\n",
        "dataset = version.download(\"yolov8-obb\")\n",
        ""
      ],
      "metadata": {
        "id": "QPX2k4tzcL-N",
        "outputId": "06374128-40c7-4417-a49d-98e55ed417fb",
        "colab": {
          "base_uri": "https://localhost:8080/"
        }
      },
      "execution_count": 2,
      "outputs": [
        {
          "output_type": "stream",
          "name": "stdout",
          "text": [
            "Collecting roboflow\n",
            "  Downloading roboflow-1.2.11-py3-none-any.whl.metadata (9.7 kB)\n",
            "Requirement already satisfied: certifi in /usr/local/lib/python3.12/dist-packages (from roboflow) (2025.10.5)\n",
            "Collecting idna==3.7 (from roboflow)\n",
            "  Downloading idna-3.7-py3-none-any.whl.metadata (9.9 kB)\n",
            "Requirement already satisfied: cycler in /usr/local/lib/python3.12/dist-packages (from roboflow) (0.12.1)\n",
            "Requirement already satisfied: kiwisolver>=1.3.1 in /usr/local/lib/python3.12/dist-packages (from roboflow) (1.4.9)\n",
            "Requirement already satisfied: matplotlib in /usr/local/lib/python3.12/dist-packages (from roboflow) (3.10.0)\n",
            "Requirement already satisfied: numpy>=1.18.5 in /usr/local/lib/python3.12/dist-packages (from roboflow) (2.0.2)\n",
            "Collecting opencv-python-headless==4.10.0.84 (from roboflow)\n",
            "  Downloading opencv_python_headless-4.10.0.84-cp37-abi3-manylinux_2_17_x86_64.manylinux2014_x86_64.whl.metadata (20 kB)\n",
            "Requirement already satisfied: Pillow>=7.1.2 in /usr/local/lib/python3.12/dist-packages (from roboflow) (11.3.0)\n",
            "Collecting pi-heif<2 (from roboflow)\n",
            "  Downloading pi_heif-1.1.1-cp312-cp312-manylinux_2_27_x86_64.manylinux_2_28_x86_64.whl.metadata (6.5 kB)\n",
            "Collecting pillow-avif-plugin<2 (from roboflow)\n",
            "  Downloading pillow_avif_plugin-1.5.2-cp312-cp312-manylinux_2_28_x86_64.whl.metadata (2.1 kB)\n",
            "Requirement already satisfied: python-dateutil in /usr/local/lib/python3.12/dist-packages (from roboflow) (2.9.0.post0)\n",
            "Requirement already satisfied: python-dotenv in /usr/local/lib/python3.12/dist-packages (from roboflow) (1.1.1)\n",
            "Requirement already satisfied: requests in /usr/local/lib/python3.12/dist-packages (from roboflow) (2.32.4)\n",
            "Requirement already satisfied: six in /usr/local/lib/python3.12/dist-packages (from roboflow) (1.17.0)\n",
            "Requirement already satisfied: urllib3>=1.26.6 in /usr/local/lib/python3.12/dist-packages (from roboflow) (2.5.0)\n",
            "Requirement already satisfied: tqdm>=4.41.0 in /usr/local/lib/python3.12/dist-packages (from roboflow) (4.67.1)\n",
            "Requirement already satisfied: PyYAML>=5.3.1 in /usr/local/lib/python3.12/dist-packages (from roboflow) (6.0.3)\n",
            "Requirement already satisfied: requests-toolbelt in /usr/local/lib/python3.12/dist-packages (from roboflow) (1.0.0)\n",
            "Collecting filetype (from roboflow)\n",
            "  Downloading filetype-1.2.0-py2.py3-none-any.whl.metadata (6.5 kB)\n",
            "Requirement already satisfied: contourpy>=1.0.1 in /usr/local/lib/python3.12/dist-packages (from matplotlib->roboflow) (1.3.3)\n",
            "Requirement already satisfied: fonttools>=4.22.0 in /usr/local/lib/python3.12/dist-packages (from matplotlib->roboflow) (4.60.1)\n",
            "Requirement already satisfied: packaging>=20.0 in /usr/local/lib/python3.12/dist-packages (from matplotlib->roboflow) (25.0)\n",
            "Requirement already satisfied: pyparsing>=2.3.1 in /usr/local/lib/python3.12/dist-packages (from matplotlib->roboflow) (3.2.5)\n",
            "Requirement already satisfied: charset_normalizer<4,>=2 in /usr/local/lib/python3.12/dist-packages (from requests->roboflow) (3.4.3)\n",
            "Downloading roboflow-1.2.11-py3-none-any.whl (89 kB)\n",
            "\u001b[2K   \u001b[90m━━━━━━━━━━━━━━━━━━━━━━━━━━━━━━━━━━━━━━━━\u001b[0m \u001b[32m89.9/89.9 kB\u001b[0m \u001b[31m6.9 MB/s\u001b[0m eta \u001b[36m0:00:00\u001b[0m\n",
            "\u001b[?25hDownloading idna-3.7-py3-none-any.whl (66 kB)\n",
            "\u001b[2K   \u001b[90m━━━━━━━━━━━━━━━━━━━━━━━━━━━━━━━━━━━━━━━━\u001b[0m \u001b[32m66.8/66.8 kB\u001b[0m \u001b[31m6.5 MB/s\u001b[0m eta \u001b[36m0:00:00\u001b[0m\n",
            "\u001b[?25hDownloading opencv_python_headless-4.10.0.84-cp37-abi3-manylinux_2_17_x86_64.manylinux2014_x86_64.whl (49.9 MB)\n",
            "\u001b[2K   \u001b[90m━━━━━━━━━━━━━━━━━━━━━━━━━━━━━━━━━━━━━━━━\u001b[0m \u001b[32m49.9/49.9 MB\u001b[0m \u001b[31m20.5 MB/s\u001b[0m eta \u001b[36m0:00:00\u001b[0m\n",
            "\u001b[?25hDownloading pi_heif-1.1.1-cp312-cp312-manylinux_2_27_x86_64.manylinux_2_28_x86_64.whl (1.4 MB)\n",
            "\u001b[2K   \u001b[90m━━━━━━━━━━━━━━━━━━━━━━━━━━━━━━━━━━━━━━━━\u001b[0m \u001b[32m1.4/1.4 MB\u001b[0m \u001b[31m45.0 MB/s\u001b[0m eta \u001b[36m0:00:00\u001b[0m\n",
            "\u001b[?25hDownloading pillow_avif_plugin-1.5.2-cp312-cp312-manylinux_2_28_x86_64.whl (4.2 MB)\n",
            "\u001b[2K   \u001b[90m━━━━━━━━━━━━━━━━━━━━━━━━━━━━━━━━━━━━━━━━\u001b[0m \u001b[32m4.2/4.2 MB\u001b[0m \u001b[31m47.2 MB/s\u001b[0m eta \u001b[36m0:00:00\u001b[0m\n",
            "\u001b[?25hDownloading filetype-1.2.0-py2.py3-none-any.whl (19 kB)\n",
            "Installing collected packages: pillow-avif-plugin, filetype, pi-heif, opencv-python-headless, idna, roboflow\n",
            "  Attempting uninstall: opencv-python-headless\n",
            "    Found existing installation: opencv-python-headless 4.12.0.88\n",
            "    Uninstalling opencv-python-headless-4.12.0.88:\n",
            "      Successfully uninstalled opencv-python-headless-4.12.0.88\n",
            "  Attempting uninstall: idna\n",
            "    Found existing installation: idna 3.10\n",
            "    Uninstalling idna-3.10:\n",
            "      Successfully uninstalled idna-3.10\n",
            "Successfully installed filetype-1.2.0 idna-3.7 opencv-python-headless-4.10.0.84 pi-heif-1.1.1 pillow-avif-plugin-1.5.2 roboflow-1.2.11\n",
            "loading Roboflow workspace...\n",
            "loading Roboflow project...\n"
          ]
        },
        {
          "output_type": "stream",
          "name": "stderr",
          "text": [
            "Downloading Dataset Version Zip in Litter-Detection-1 to yolov8-obb:: 100%|██████████| 1532663/1532663 [00:47<00:00, 32149.89it/s]"
          ]
        },
        {
          "output_type": "stream",
          "name": "stdout",
          "text": [
            "\n"
          ]
        },
        {
          "output_type": "stream",
          "name": "stderr",
          "text": [
            "\n",
            "Extracting Dataset Version Zip to Litter-Detection-1 in yolov8-obb:: 100%|██████████| 32370/32370 [00:10<00:00, 3098.37it/s]\n"
          ]
        }
      ]
    },
    {
      "cell_type": "code",
      "source": [
        "from google.colab import drive\n",
        "drive.mount('/content/gdrive')\n",
        "\n"
      ],
      "metadata": {
        "id": "ZfQBSwDdWoWp",
        "outputId": "aa5d093b-3da5-4d80-c577-1c2a97f1b565",
        "colab": {
          "base_uri": "https://localhost:8080/"
        }
      },
      "execution_count": 3,
      "outputs": [
        {
          "output_type": "stream",
          "name": "stdout",
          "text": [
            "Mounted at /content/gdrive\n"
          ]
        }
      ]
    },
    {
      "cell_type": "code",
      "source": [
        "!cp -r /content/Litter-Detection-1 /content/gdrive/MyDrive"
      ],
      "metadata": {
        "id": "ppqG3IY-dgD_",
        "outputId": "38d160c4-bb7b-4bd7-aa99-13d1d1908854",
        "colab": {
          "base_uri": "https://localhost:8080/"
        }
      },
      "execution_count": 5,
      "outputs": [
        {
          "output_type": "stream",
          "name": "stdout",
          "text": [
            "^C\n"
          ]
        }
      ]
    },
    {
      "cell_type": "markdown",
      "source": [
        "**Option 3. Use my candy detection or coin detection dataset**\n",
        "\n",
        "If you just want to test the process on a pre-made dataset, you can use one of my datasets:\n",
        "\n",
        "*   [Candy image dataset](https://s3.us-west-1.amazonaws.com/evanjuras.com/resources/candy_data_14DEC24.zip), which contains 162 pictures of popular candies (Skittles, Snickers, etc)\n",
        "*   [Coin image dataset](https://s3.us-west-1.amazonaws.com/evanjuras.com/resources/YOLO_coin_data_12DEC30.zip), which contains 750 pictures of US coins (pennies, dimes, nickels, and quarters)\n",
        "\n",
        "Download one of the datasets by running the following code block. I'll use the candy detection dataset as the example for the rest of the notebook."
      ],
      "metadata": {
        "id": "q43_b9-sWsdB"
      }
    },
    {
      "cell_type": "code",
      "execution_count": null,
      "metadata": {
        "id": "ZQXLBvL5grDl"
      },
      "outputs": [],
      "source": [
        "# To use my one of pre-made dataset instead of your own custom dataset, download it here (control which dataset is downloaded by commenting out either line)\n",
        "!wget -O /content/data.zip https://s3.us-west-1.amazonaws.com/evanjuras.com/resources/candy_data_06JAN25.zip # Candy dataset\n",
        "#!wget -O /content/data.zip https://s3.us-west-1.amazonaws.com/evanjuras.com/resources/YOLO_coin_data_12DEC30.zip # Coin dataset"
      ]
    },
    {
      "cell_type": "markdown",
      "source": [
        "## 2.2 Split images into train and validation folders"
      ],
      "metadata": {
        "id": "m7Iz9eBzW5zm"
      }
    },
    {
      "cell_type": "markdown",
      "source": [
        "At this point, whether you used Option 1, 2, or 3, you should be able to click the folder icon on the left and see your `data.zip` file in the list of files. Next, we'll unzip `data.zip` and create some folders to hold the images. Run the following code block to unzip the data."
      ],
      "metadata": {
        "id": "58JuFGc2PatU"
      }
    },
    {
      "cell_type": "code",
      "execution_count": null,
      "metadata": {
        "id": "z8O6z-wVcPEF"
      },
      "outputs": [],
      "source": [
        "# Unzip images to a custom data folder\n",
        "!unzip -q /content/data.zip -d /content/custom_data"
      ]
    },
    {
      "cell_type": "markdown",
      "source": [
        "Ultralytics requires a particular folder structure to store training data for models. Ultralytics requires a particular folder structure to store training data for models. The root folder is named “data”. Inside, there are two main folders:\n",
        "\n",
        "*   **Train**: These are the actual images used to train the model. In one epoch of training, every image in the train set is passed into the neural network. The training algorithm adjusts the network weights to fit the data in the images.\n",
        "\n",
        "\n",
        "*   **Validation**: These images are used to check the model's performance at the end of each training epoch.\n",
        "\n",
        "In each of these folders is a “images” folder and a “labels” folder, which hold the image files and annotation files respectively."
      ],
      "metadata": {
        "id": "eoPjqW6AYebn"
      }
    },
    {
      "cell_type": "markdown",
      "source": [
        "\n",
        "I wrote a Python script that will automatically create the required folder structure and randomly move 90% of dataset to the \"train\" folder and 10% to the \"validation\" folder. Run the following code block to download and execute the scrpt."
      ],
      "metadata": {
        "id": "f2ohNAhWj41n"
      }
    },
    {
      "cell_type": "code",
      "source": [
        "!wget -O /content/train_val_split.py https://raw.githubusercontent.com/EdjeElectronics/Train-and-Deploy-YOLO-Models/refs/heads/main/utils/train_val_split.py\n",
        "\n",
        "# TO DO: Improve robustness of train_val_split.py script so it can handle nested data folders, etc\n",
        "!python train_val_split.py --datapath=\"/content/custom_data\" --train_pct=0.9"
      ],
      "metadata": {
        "id": "8X62eFTugosf"
      },
      "execution_count": null,
      "outputs": []
    },
    {
      "cell_type": "markdown",
      "source": [
        "# 3.&nbsp;Install Requirements (Ultralytics)\n",
        "\n",
        "Next, we'll install the Ultralytics library in this Google Colab instance. This Python library will be used to train the YOLO model."
      ],
      "metadata": {
        "id": "B2L2qGCJzwY9"
      }
    },
    {
      "cell_type": "code",
      "source": [
        "!pip install ultralytics"
      ],
      "metadata": {
        "id": "EMEDk5byzxY5",
        "outputId": "d0ebbd63-4a4f-4428-b832-84336df26cea",
        "colab": {
          "base_uri": "https://localhost:8080/"
        }
      },
      "execution_count": 6,
      "outputs": [
        {
          "output_type": "stream",
          "name": "stdout",
          "text": [
            "Collecting ultralytics\n",
            "  Downloading ultralytics-8.3.216-py3-none-any.whl.metadata (37 kB)\n",
            "Requirement already satisfied: numpy>=1.23.0 in /usr/local/lib/python3.12/dist-packages (from ultralytics) (2.0.2)\n",
            "Requirement already satisfied: matplotlib>=3.3.0 in /usr/local/lib/python3.12/dist-packages (from ultralytics) (3.10.0)\n",
            "Requirement already satisfied: opencv-python>=4.6.0 in /usr/local/lib/python3.12/dist-packages (from ultralytics) (4.12.0.88)\n",
            "Requirement already satisfied: pillow>=7.1.2 in /usr/local/lib/python3.12/dist-packages (from ultralytics) (11.3.0)\n",
            "Requirement already satisfied: pyyaml>=5.3.1 in /usr/local/lib/python3.12/dist-packages (from ultralytics) (6.0.3)\n",
            "Requirement already satisfied: requests>=2.23.0 in /usr/local/lib/python3.12/dist-packages (from ultralytics) (2.32.4)\n",
            "Requirement already satisfied: scipy>=1.4.1 in /usr/local/lib/python3.12/dist-packages (from ultralytics) (1.16.2)\n",
            "Requirement already satisfied: torch>=1.8.0 in /usr/local/lib/python3.12/dist-packages (from ultralytics) (2.8.0+cu126)\n",
            "Requirement already satisfied: torchvision>=0.9.0 in /usr/local/lib/python3.12/dist-packages (from ultralytics) (0.23.0+cu126)\n",
            "Requirement already satisfied: psutil in /usr/local/lib/python3.12/dist-packages (from ultralytics) (5.9.5)\n",
            "Requirement already satisfied: polars in /usr/local/lib/python3.12/dist-packages (from ultralytics) (1.25.2)\n",
            "Collecting ultralytics-thop>=2.0.0 (from ultralytics)\n",
            "  Downloading ultralytics_thop-2.0.17-py3-none-any.whl.metadata (14 kB)\n",
            "Requirement already satisfied: contourpy>=1.0.1 in /usr/local/lib/python3.12/dist-packages (from matplotlib>=3.3.0->ultralytics) (1.3.3)\n",
            "Requirement already satisfied: cycler>=0.10 in /usr/local/lib/python3.12/dist-packages (from matplotlib>=3.3.0->ultralytics) (0.12.1)\n",
            "Requirement already satisfied: fonttools>=4.22.0 in /usr/local/lib/python3.12/dist-packages (from matplotlib>=3.3.0->ultralytics) (4.60.1)\n",
            "Requirement already satisfied: kiwisolver>=1.3.1 in /usr/local/lib/python3.12/dist-packages (from matplotlib>=3.3.0->ultralytics) (1.4.9)\n",
            "Requirement already satisfied: packaging>=20.0 in /usr/local/lib/python3.12/dist-packages (from matplotlib>=3.3.0->ultralytics) (25.0)\n",
            "Requirement already satisfied: pyparsing>=2.3.1 in /usr/local/lib/python3.12/dist-packages (from matplotlib>=3.3.0->ultralytics) (3.2.5)\n",
            "Requirement already satisfied: python-dateutil>=2.7 in /usr/local/lib/python3.12/dist-packages (from matplotlib>=3.3.0->ultralytics) (2.9.0.post0)\n",
            "Requirement already satisfied: charset_normalizer<4,>=2 in /usr/local/lib/python3.12/dist-packages (from requests>=2.23.0->ultralytics) (3.4.3)\n",
            "Requirement already satisfied: idna<4,>=2.5 in /usr/local/lib/python3.12/dist-packages (from requests>=2.23.0->ultralytics) (3.7)\n",
            "Requirement already satisfied: urllib3<3,>=1.21.1 in /usr/local/lib/python3.12/dist-packages (from requests>=2.23.0->ultralytics) (2.5.0)\n",
            "Requirement already satisfied: certifi>=2017.4.17 in /usr/local/lib/python3.12/dist-packages (from requests>=2.23.0->ultralytics) (2025.10.5)\n",
            "Requirement already satisfied: filelock in /usr/local/lib/python3.12/dist-packages (from torch>=1.8.0->ultralytics) (3.20.0)\n",
            "Requirement already satisfied: typing-extensions>=4.10.0 in /usr/local/lib/python3.12/dist-packages (from torch>=1.8.0->ultralytics) (4.15.0)\n",
            "Requirement already satisfied: setuptools in /usr/local/lib/python3.12/dist-packages (from torch>=1.8.0->ultralytics) (75.2.0)\n",
            "Requirement already satisfied: sympy>=1.13.3 in /usr/local/lib/python3.12/dist-packages (from torch>=1.8.0->ultralytics) (1.13.3)\n",
            "Requirement already satisfied: networkx in /usr/local/lib/python3.12/dist-packages (from torch>=1.8.0->ultralytics) (3.5)\n",
            "Requirement already satisfied: jinja2 in /usr/local/lib/python3.12/dist-packages (from torch>=1.8.0->ultralytics) (3.1.6)\n",
            "Requirement already satisfied: fsspec in /usr/local/lib/python3.12/dist-packages (from torch>=1.8.0->ultralytics) (2025.3.0)\n",
            "Requirement already satisfied: nvidia-cuda-nvrtc-cu12==12.6.77 in /usr/local/lib/python3.12/dist-packages (from torch>=1.8.0->ultralytics) (12.6.77)\n",
            "Requirement already satisfied: nvidia-cuda-runtime-cu12==12.6.77 in /usr/local/lib/python3.12/dist-packages (from torch>=1.8.0->ultralytics) (12.6.77)\n",
            "Requirement already satisfied: nvidia-cuda-cupti-cu12==12.6.80 in /usr/local/lib/python3.12/dist-packages (from torch>=1.8.0->ultralytics) (12.6.80)\n",
            "Requirement already satisfied: nvidia-cudnn-cu12==9.10.2.21 in /usr/local/lib/python3.12/dist-packages (from torch>=1.8.0->ultralytics) (9.10.2.21)\n",
            "Requirement already satisfied: nvidia-cublas-cu12==12.6.4.1 in /usr/local/lib/python3.12/dist-packages (from torch>=1.8.0->ultralytics) (12.6.4.1)\n",
            "Requirement already satisfied: nvidia-cufft-cu12==11.3.0.4 in /usr/local/lib/python3.12/dist-packages (from torch>=1.8.0->ultralytics) (11.3.0.4)\n",
            "Requirement already satisfied: nvidia-curand-cu12==10.3.7.77 in /usr/local/lib/python3.12/dist-packages (from torch>=1.8.0->ultralytics) (10.3.7.77)\n",
            "Requirement already satisfied: nvidia-cusolver-cu12==11.7.1.2 in /usr/local/lib/python3.12/dist-packages (from torch>=1.8.0->ultralytics) (11.7.1.2)\n",
            "Requirement already satisfied: nvidia-cusparse-cu12==12.5.4.2 in /usr/local/lib/python3.12/dist-packages (from torch>=1.8.0->ultralytics) (12.5.4.2)\n",
            "Requirement already satisfied: nvidia-cusparselt-cu12==0.7.1 in /usr/local/lib/python3.12/dist-packages (from torch>=1.8.0->ultralytics) (0.7.1)\n",
            "Requirement already satisfied: nvidia-nccl-cu12==2.27.3 in /usr/local/lib/python3.12/dist-packages (from torch>=1.8.0->ultralytics) (2.27.3)\n",
            "Requirement already satisfied: nvidia-nvtx-cu12==12.6.77 in /usr/local/lib/python3.12/dist-packages (from torch>=1.8.0->ultralytics) (12.6.77)\n",
            "Requirement already satisfied: nvidia-nvjitlink-cu12==12.6.85 in /usr/local/lib/python3.12/dist-packages (from torch>=1.8.0->ultralytics) (12.6.85)\n",
            "Requirement already satisfied: nvidia-cufile-cu12==1.11.1.6 in /usr/local/lib/python3.12/dist-packages (from torch>=1.8.0->ultralytics) (1.11.1.6)\n",
            "Requirement already satisfied: triton==3.4.0 in /usr/local/lib/python3.12/dist-packages (from torch>=1.8.0->ultralytics) (3.4.0)\n",
            "Requirement already satisfied: six>=1.5 in /usr/local/lib/python3.12/dist-packages (from python-dateutil>=2.7->matplotlib>=3.3.0->ultralytics) (1.17.0)\n",
            "Requirement already satisfied: mpmath<1.4,>=1.1.0 in /usr/local/lib/python3.12/dist-packages (from sympy>=1.13.3->torch>=1.8.0->ultralytics) (1.3.0)\n",
            "Requirement already satisfied: MarkupSafe>=2.0 in /usr/local/lib/python3.12/dist-packages (from jinja2->torch>=1.8.0->ultralytics) (3.0.3)\n",
            "Downloading ultralytics-8.3.216-py3-none-any.whl (1.1 MB)\n",
            "\u001b[2K   \u001b[90m━━━━━━━━━━━━━━━━━━━━━━━━━━━━━━━━━━━━━━━━\u001b[0m \u001b[32m1.1/1.1 MB\u001b[0m \u001b[31m42.6 MB/s\u001b[0m eta \u001b[36m0:00:00\u001b[0m\n",
            "\u001b[?25hDownloading ultralytics_thop-2.0.17-py3-none-any.whl (28 kB)\n",
            "Installing collected packages: ultralytics-thop, ultralytics\n",
            "Successfully installed ultralytics-8.3.216 ultralytics-thop-2.0.17\n"
          ]
        }
      ]
    },
    {
      "cell_type": "markdown",
      "metadata": {
        "id": "cuZoMkSFN9XG"
      },
      "source": [
        "# 4.&nbsp;Configure Training\n"
      ]
    },
    {
      "cell_type": "markdown",
      "source": [
        "There's one last step before we can run training: we need to create the Ultralytics training configuration YAML file. This file specifies the location of your train and validation data, and it also defines the model's classes. An example configuration file model is available [here](https://github.com/ultralytics/ultralytics/blob/main/ultralytics/cfg/datasets/coco128.yaml).\n",
        "\n",
        "Run the code block below to automatically generate a `data.yaml` configuration file. Make sure you have a labelmap file located at `custom_data/classes.txt`. If you used Label Studio or one of my pre-made datasets, it should already be present. If you assembled the dataset another way, you may have to manually create the `classes.txt` file (see [here](https://github.com/EdjeElectronics/Train-and-Deploy-YOLO-Models/blob/main/doc/classes.txt) for an example of how it's formatted)."
      ],
      "metadata": {
        "id": "0c5Kdh0GmQHS"
      }
    },
    {
      "cell_type": "markdown",
      "metadata": {
        "id": "myP80_bnTNMi"
      },
      "source": [
        "# 5.&nbsp;Train Model"
      ]
    },
    {
      "cell_type": "code",
      "source": [
        "# train.py\n",
        "\n",
        "from ultralytics import YOLO\n",
        "\n",
        "# This line is for ensuring the script runs when executed directly\n",
        "if __name__ == '__main__':\n",
        "    # Load a pre-trained YOLOv8n model from a '.pt' file.\n",
        "    # The model is downloaded automatically the first time you run it.\n",
        "    model = YOLO('yolov8n.pt')\n",
        "\n",
        "    # Start the training process.\n",
        "    # This will fine-tune the yolov8n model on your custom dataset.\n",
        "    results = model.train(\n",
        "        data='/content/Litter-Detection-1/data.yaml',         # Path to your dataset configuration file.\n",
        "        epochs=100,               # Number of training epochs. 100-200 is a good range to start.\n",
        "        imgsz=640,                # The image size the model will be trained on. 640 is standard.\n",
        "        batch=8,                  # Number of images to process in each batch. Lower this if you run out of GPU memory.\n",
        "        name='yolov8n_trash_custom' # A custom name for the training run folder.\n",
        "    )\n",
        "\n",
        "    print(\"Training complete! The results are saved in the 'runs' directory.\")"
      ],
      "metadata": {
        "id": "QD91C7XOf7is",
        "outputId": "db948431-b89d-4839-fbde-654c3117d480",
        "colab": {
          "base_uri": "https://localhost:8080/"
        }
      },
      "execution_count": null,
      "outputs": [
        {
          "output_type": "stream",
          "name": "stdout",
          "text": [
            "Ultralytics 8.3.216 🚀 Python-3.12.12 torch-2.8.0+cu126 CUDA:0 (Tesla T4, 15095MiB)\n",
            "\u001b[34m\u001b[1mengine/trainer: \u001b[0magnostic_nms=False, amp=True, augment=False, auto_augment=randaugment, batch=8, bgr=0.0, box=7.5, cache=False, cfg=None, classes=None, close_mosaic=10, cls=0.5, compile=False, conf=None, copy_paste=0.0, copy_paste_mode=flip, cos_lr=False, cutmix=0.0, data=/content/Litter-Detection-1/data.yaml, degrees=0.0, deterministic=True, device=None, dfl=1.5, dnn=False, dropout=0.0, dynamic=False, embed=None, epochs=100, erasing=0.4, exist_ok=False, fliplr=0.5, flipud=0.0, format=torchscript, fraction=1.0, freeze=None, half=False, hsv_h=0.015, hsv_s=0.7, hsv_v=0.4, imgsz=640, int8=False, iou=0.7, keras=False, kobj=1.0, line_width=None, lr0=0.01, lrf=0.01, mask_ratio=4, max_det=300, mixup=0.0, mode=train, model=yolov8n.pt, momentum=0.937, mosaic=1.0, multi_scale=False, name=yolov8n_trash_custom2, nbs=64, nms=False, opset=None, optimize=False, optimizer=auto, overlap_mask=True, patience=100, perspective=0.0, plots=True, pose=12.0, pretrained=True, profile=False, project=None, rect=False, resume=False, retina_masks=False, save=True, save_conf=False, save_crop=False, save_dir=/content/runs/detect/yolov8n_trash_custom2, save_frames=False, save_json=False, save_period=-1, save_txt=False, scale=0.5, seed=0, shear=0.0, show=False, show_boxes=True, show_conf=True, show_labels=True, simplify=True, single_cls=False, source=None, split=val, stream_buffer=False, task=detect, time=None, tracker=botsort.yaml, translate=0.1, val=True, verbose=True, vid_stride=1, visualize=False, warmup_bias_lr=0.1, warmup_epochs=3.0, warmup_momentum=0.8, weight_decay=0.0005, workers=8, workspace=None\n",
            "\u001b[KDownloading https://ultralytics.com/assets/Arial.ttf to '/root/.config/Ultralytics/Arial.ttf': 100% ━━━━━━━━━━━━ 755.1KB 18.2MB/s 0.0s\n",
            "Overriding model.yaml nc=80 with nc=1\n",
            "\n",
            "                   from  n    params  module                                       arguments                     \n",
            "  0                  -1  1       464  ultralytics.nn.modules.conv.Conv             [3, 16, 3, 2]                 \n",
            "  1                  -1  1      4672  ultralytics.nn.modules.conv.Conv             [16, 32, 3, 2]                \n",
            "  2                  -1  1      7360  ultralytics.nn.modules.block.C2f             [32, 32, 1, True]             \n",
            "  3                  -1  1     18560  ultralytics.nn.modules.conv.Conv             [32, 64, 3, 2]                \n",
            "  4                  -1  2     49664  ultralytics.nn.modules.block.C2f             [64, 64, 2, True]             \n",
            "  5                  -1  1     73984  ultralytics.nn.modules.conv.Conv             [64, 128, 3, 2]               \n",
            "  6                  -1  2    197632  ultralytics.nn.modules.block.C2f             [128, 128, 2, True]           \n",
            "  7                  -1  1    295424  ultralytics.nn.modules.conv.Conv             [128, 256, 3, 2]              \n",
            "  8                  -1  1    460288  ultralytics.nn.modules.block.C2f             [256, 256, 1, True]           \n",
            "  9                  -1  1    164608  ultralytics.nn.modules.block.SPPF            [256, 256, 5]                 \n",
            " 10                  -1  1         0  torch.nn.modules.upsampling.Upsample         [None, 2, 'nearest']          \n",
            " 11             [-1, 6]  1         0  ultralytics.nn.modules.conv.Concat           [1]                           \n",
            " 12                  -1  1    148224  ultralytics.nn.modules.block.C2f             [384, 128, 1]                 \n",
            " 13                  -1  1         0  torch.nn.modules.upsampling.Upsample         [None, 2, 'nearest']          \n",
            " 14             [-1, 4]  1         0  ultralytics.nn.modules.conv.Concat           [1]                           \n",
            " 15                  -1  1     37248  ultralytics.nn.modules.block.C2f             [192, 64, 1]                  \n",
            " 16                  -1  1     36992  ultralytics.nn.modules.conv.Conv             [64, 64, 3, 2]                \n",
            " 17            [-1, 12]  1         0  ultralytics.nn.modules.conv.Concat           [1]                           \n",
            " 18                  -1  1    123648  ultralytics.nn.modules.block.C2f             [192, 128, 1]                 \n",
            " 19                  -1  1    147712  ultralytics.nn.modules.conv.Conv             [128, 128, 3, 2]              \n",
            " 20             [-1, 9]  1         0  ultralytics.nn.modules.conv.Concat           [1]                           \n",
            " 21                  -1  1    493056  ultralytics.nn.modules.block.C2f             [384, 256, 1]                 \n",
            " 22        [15, 18, 21]  1    751507  ultralytics.nn.modules.head.Detect           [1, [64, 128, 256]]           \n",
            "Model summary: 129 layers, 3,011,043 parameters, 3,011,027 gradients, 8.2 GFLOPs\n",
            "\n",
            "Transferred 319/355 items from pretrained weights\n",
            "Freezing layer 'model.22.dfl.conv.weight'\n",
            "\u001b[34m\u001b[1mAMP: \u001b[0mrunning Automatic Mixed Precision (AMP) checks...\n",
            "\u001b[KDownloading https://github.com/ultralytics/assets/releases/download/v8.3.0/yolo11n.pt to 'yolo11n.pt': 100% ━━━━━━━━━━━━ 5.4MB 136.6MB/s 0.0s\n",
            "\u001b[34m\u001b[1mAMP: \u001b[0mchecks passed ✅\n",
            "\u001b[34m\u001b[1mtrain: \u001b[0mFast image access ✅ (ping: 0.0±0.0 ms, read: 1000.6±759.4 MB/s, size: 69.0 KB)\n",
            "\u001b[K\u001b[34m\u001b[1mtrain: \u001b[0mScanning /content/Litter-Detection-1/train/labels... 14913 images, 436 backgrounds, 191 corrupt: 100% ━━━━━━━━━━━━ 14913/14913 1.2Kit/s 12.6s\n",
            "\u001b[34m\u001b[1mtrain: \u001b[0m/content/Litter-Detection-1/train/images/134633_jpg.rf.24e87e4694ea289af48c883dbe86c89a.jpg: ignoring corrupt image/label: non-normalized or out of bounds coordinates [     1.0722      1.0367]\n",
            "\u001b[34m\u001b[1mtrain: \u001b[0m/content/Litter-Detection-1/train/images/135082_jpg.rf.1a5caec86aea12f3ea7572b639b06fc3.jpg: ignoring corrupt image/label: non-normalized or out of bounds coordinates [      1.018      1.1941]\n",
            "\u001b[34m\u001b[1mtrain: \u001b[0m/content/Litter-Detection-1/train/images/135082_jpg.rf.4921b3952e64cc800c0e534372bd155b.jpg: ignoring corrupt image/label: non-normalized or out of bounds coordinates [     1.0876]\n",
            "\u001b[34m\u001b[1mtrain: \u001b[0m/content/Litter-Detection-1/train/images/135497_jpg.rf.50bf4279be7a8dec1ad25de78d248a76.jpg: ignoring corrupt image/label: non-normalized or out of bounds coordinates [     1.0456]\n",
            "\u001b[34m\u001b[1mtrain: \u001b[0m/content/Litter-Detection-1/train/images/135497_jpg.rf.6225fafd9aabed0bc8f37e3de198bf2e.jpg: ignoring corrupt image/label: non-normalized or out of bounds coordinates [     1.0846]\n",
            "\u001b[34m\u001b[1mtrain: \u001b[0m/content/Litter-Detection-1/train/images/135521_jpg.rf.abc38fcc856280f650405c74c444752d.jpg: ignoring corrupt image/label: non-normalized or out of bounds coordinates [     1.0671]\n",
            "\u001b[34m\u001b[1mtrain: \u001b[0m/content/Litter-Detection-1/train/images/135631_jpg.rf.479d976ed55189dc52e1f53305412043.jpg: ignoring corrupt image/label: non-normalized or out of bounds coordinates [     1.0892]\n",
            "\u001b[34m\u001b[1mtrain: \u001b[0m/content/Litter-Detection-1/train/images/135631_jpg.rf.69e95d118b8de1deb1db6d0e439b97b7.jpg: ignoring corrupt image/label: non-normalized or out of bounds coordinates [     1.1016]\n",
            "\u001b[34m\u001b[1mtrain: \u001b[0m/content/Litter-Detection-1/train/images/135658_jpg.rf.11d13fe6c30c50223eb8e00e707a2070.jpg: ignoring corrupt image/label: non-normalized or out of bounds coordinates [       1.02]\n",
            "\u001b[34m\u001b[1mtrain: \u001b[0m/content/Litter-Detection-1/train/images/135659_jpg.rf.3010e3ae6649a6c0418551ef7ea5cb4c.jpg: ignoring corrupt image/label: non-normalized or out of bounds coordinates [     1.1509]\n",
            "\u001b[34m\u001b[1mtrain: \u001b[0m/content/Litter-Detection-1/train/images/135659_jpg.rf.6907a00f86cbb9c63c217cf815bb5df4.jpg: ignoring corrupt image/label: non-normalized or out of bounds coordinates [     1.0394]\n",
            "\u001b[34m\u001b[1mtrain: \u001b[0m/content/Litter-Detection-1/train/images/135659_jpg.rf.cc6c96564acf7c6842cb1afff8ec3a4d.jpg: ignoring corrupt image/label: non-normalized or out of bounds coordinates [      1.087]\n",
            "\u001b[34m\u001b[1mtrain: \u001b[0m/content/Litter-Detection-1/train/images/135666_jpg.rf.56c4d20bb11cf88a40e4a1e5442ddcaa.jpg: ignoring corrupt image/label: non-normalized or out of bounds coordinates [     1.0252]\n",
            "\u001b[34m\u001b[1mtrain: \u001b[0m/content/Litter-Detection-1/train/images/135666_jpg.rf.8aa255729d23da3d6aea415a5a5bc18e.jpg: ignoring corrupt image/label: non-normalized or out of bounds coordinates [     1.0292]\n",
            "\u001b[34m\u001b[1mtrain: \u001b[0m/content/Litter-Detection-1/train/images/135666_jpg.rf.9caa4707bacf5bb91db5124a72553789.jpg: ignoring corrupt image/label: non-normalized or out of bounds coordinates [      1.081]\n",
            "\u001b[34m\u001b[1mtrain: \u001b[0m/content/Litter-Detection-1/train/images/135666_jpg.rf.c374910830b22db016669dbfbbde87d7.jpg: ignoring corrupt image/label: non-normalized or out of bounds coordinates [     1.0292]\n",
            "\u001b[34m\u001b[1mtrain: \u001b[0m/content/Litter-Detection-1/train/images/135666_jpg.rf.f5ee48e380ba51685383813a0d0270ed.jpg: ignoring corrupt image/label: non-normalized or out of bounds coordinates [     1.0104]\n",
            "\u001b[34m\u001b[1mtrain: \u001b[0m/content/Litter-Detection-1/train/images/135666_jpg.rf.ff14b9009de76e2ef4eb2789ff57f9e8.jpg: ignoring corrupt image/label: non-normalized or out of bounds coordinates [      1.027]\n",
            "\u001b[34m\u001b[1mtrain: \u001b[0m/content/Litter-Detection-1/train/images/135669_jpg.rf.45d4db6d103be9b98bb0a47ed536e9b6.jpg: ignoring corrupt image/label: non-normalized or out of bounds coordinates [     1.0502]\n",
            "\u001b[34m\u001b[1mtrain: \u001b[0m/content/Litter-Detection-1/train/images/135674_jpg.rf.2605465c415d1d97a8311f0b59d6dea5.jpg: ignoring corrupt image/label: non-normalized or out of bounds coordinates [     1.0622]\n",
            "\u001b[34m\u001b[1mtrain: \u001b[0m/content/Litter-Detection-1/train/images/135726_jpg.rf.8a5a453a4031e377dcf0be5b2b5a89cc.jpg: ignoring corrupt image/label: non-normalized or out of bounds coordinates [     1.0942]\n",
            "\u001b[34m\u001b[1mtrain: \u001b[0m/content/Litter-Detection-1/train/images/135901_jpg.rf.f4e09a179c3d550a887e3fef5b048a72.jpg: ignoring corrupt image/label: non-normalized or out of bounds coordinates [     1.0184]\n",
            "\u001b[34m\u001b[1mtrain: \u001b[0m/content/Litter-Detection-1/train/images/135978_jpg.rf.7276a52fd60805803be3a69fdac462ee.jpg: ignoring corrupt image/label: non-normalized or out of bounds coordinates [       1.05      1.0244]\n",
            "\u001b[34m\u001b[1mtrain: \u001b[0m/content/Litter-Detection-1/train/images/136130_jpg.rf.c816e7a9dc4c5a48b95939455f8d262c.jpg: ignoring corrupt image/label: non-normalized or out of bounds coordinates [     1.0523]\n",
            "\u001b[34m\u001b[1mtrain: \u001b[0m/content/Litter-Detection-1/train/images/137622_jpg.rf.18280d3ab134968aa43d2f0c82cf7a53.jpg: ignoring corrupt image/label: non-normalized or out of bounds coordinates [     1.0611]\n",
            "\u001b[34m\u001b[1mtrain: \u001b[0m/content/Litter-Detection-1/train/images/137622_jpg.rf.46005fef596ae13f095debcc266d81b0.jpg: ignoring corrupt image/label: non-normalized or out of bounds coordinates [     1.0188]\n",
            "\u001b[34m\u001b[1mtrain: \u001b[0m/content/Litter-Detection-1/train/images/137622_jpg.rf.647c736f75f6475ab77afb67345eab87.jpg: ignoring corrupt image/label: non-normalized or out of bounds coordinates [     1.0155]\n",
            "\u001b[34m\u001b[1mtrain: \u001b[0m/content/Litter-Detection-1/train/images/137622_jpg.rf.6c7e08186d78f556bcbdf85d96573698.jpg: ignoring corrupt image/label: non-normalized or out of bounds coordinates [     1.0845]\n",
            "\u001b[34m\u001b[1mtrain: \u001b[0m/content/Litter-Detection-1/train/images/137622_jpg.rf.6ecba4475767db134a69b7310cb0e8ac.jpg: ignoring corrupt image/label: non-normalized or out of bounds coordinates [     1.0114]\n",
            "\u001b[34m\u001b[1mtrain: \u001b[0m/content/Litter-Detection-1/train/images/149697_jpg.rf.0c714891a962a4503995002aa4d2d069.jpg: ignoring corrupt image/label: non-normalized or out of bounds coordinates [     1.1052]\n",
            "\u001b[34m\u001b[1mtrain: \u001b[0m/content/Litter-Detection-1/train/images/149697_jpg.rf.9285bca96c6a03727f0c3964c06d2b01.jpg: ignoring corrupt image/label: non-normalized or out of bounds coordinates [     1.0831]\n",
            "\u001b[34m\u001b[1mtrain: \u001b[0m/content/Litter-Detection-1/train/images/149697_jpg.rf.f2380bff1261eb95c465956b33be6d21.jpg: ignoring corrupt image/label: non-normalized or out of bounds coordinates [     1.0515]\n",
            "\u001b[34m\u001b[1mtrain: \u001b[0m/content/Litter-Detection-1/train/images/149697_jpg.rf.fcd9e3e702cbad33cf76f5594c589d71.jpg: ignoring corrupt image/label: non-normalized or out of bounds coordinates [     1.1486]\n",
            "\u001b[34m\u001b[1mtrain: \u001b[0m/content/Litter-Detection-1/train/images/167555_jpg.rf.328fc58b651d80251ce2e13faadfaa2e.jpg: ignoring corrupt image/label: non-normalized or out of bounds coordinates [     1.0844]\n",
            "\u001b[34m\u001b[1mtrain: \u001b[0m/content/Litter-Detection-1/train/images/167555_jpg.rf.90d6738c9135e5efed9d845d188a2cf4.jpg: ignoring corrupt image/label: non-normalized or out of bounds coordinates [     1.0671]\n",
            "\u001b[34m\u001b[1mtrain: \u001b[0m/content/Litter-Detection-1/train/images/167555_jpg.rf.ba9dfd1a12ae7128c122618d1d1f7178.jpg: ignoring corrupt image/label: non-normalized or out of bounds coordinates [     1.0339]\n",
            "\u001b[34m\u001b[1mtrain: \u001b[0m/content/Litter-Detection-1/train/images/176854_jpg.rf.ba52c83a4680d4e503992914e10f49bf.jpg: ignoring corrupt image/label: non-normalized or out of bounds coordinates [     1.0804      1.0724]\n",
            "\u001b[34m\u001b[1mtrain: \u001b[0m/content/Litter-Detection-1/train/images/176854_jpg.rf.babdc2c26f9084fba28dbc1582c9ec0f.jpg: ignoring corrupt image/label: non-normalized or out of bounds coordinates [     1.0991       1.091]\n",
            "\u001b[34m\u001b[1mtrain: \u001b[0m/content/Litter-Detection-1/train/images/178563_jpg.rf.3e726144fa2f039df54d2c671dc64f63.jpg: ignoring corrupt image/label: non-normalized or out of bounds coordinates [      1.042]\n",
            "\u001b[34m\u001b[1mtrain: \u001b[0m/content/Litter-Detection-1/train/images/178563_jpg.rf.bf188d5bfc09ee1bc0bfd31a1cc75b81.jpg: ignoring corrupt image/label: non-normalized or out of bounds coordinates [     1.0265]\n",
            "\u001b[34m\u001b[1mtrain: \u001b[0m/content/Litter-Detection-1/train/images/178566_jpg.rf.3842bea42152ad26e3e30f4eeb41dbc5.jpg: ignoring corrupt image/label: non-normalized or out of bounds coordinates [     1.0922        1.06]\n",
            "\u001b[34m\u001b[1mtrain: \u001b[0m/content/Litter-Detection-1/train/images/178566_jpg.rf.8c8f720abf93ae4da60224794f624bb8.jpg: ignoring corrupt image/label: non-normalized or out of bounds coordinates [     1.1468      1.1175]\n",
            "\u001b[34m\u001b[1mtrain: \u001b[0m/content/Litter-Detection-1/train/images/178568_jpg.rf.8a1c624d0cdd4b990967e58cd0700531.jpg: ignoring corrupt image/label: non-normalized or out of bounds coordinates [      1.028]\n",
            "\u001b[34m\u001b[1mtrain: \u001b[0m/content/Litter-Detection-1/train/images/178569_jpg.rf.f1c6ed171a7e8d81a79514f7dfba5db6.jpg: ignoring corrupt image/label: non-normalized or out of bounds coordinates [     1.0352]\n",
            "\u001b[34m\u001b[1mtrain: \u001b[0m/content/Litter-Detection-1/train/images/200882_jpg.rf.13829d9a28f6b262b44352be478d905a.jpg: ignoring corrupt image/label: non-normalized or out of bounds coordinates [     1.0243]\n",
            "\u001b[34m\u001b[1mtrain: \u001b[0m/content/Litter-Detection-1/train/images/200882_jpg.rf.3412acfb928d8e9f372634b392dac37b.jpg: ignoring corrupt image/label: non-normalized or out of bounds coordinates [     1.0625]\n",
            "\u001b[34m\u001b[1mtrain: \u001b[0m/content/Litter-Detection-1/train/images/200882_jpg.rf.e2cc4f239b470bf50c38514d13703a00.jpg: ignoring corrupt image/label: non-normalized or out of bounds coordinates [     1.1297]\n",
            "\u001b[34m\u001b[1mtrain: \u001b[0m/content/Litter-Detection-1/train/images/200882_jpg.rf.f32dedafbaaeac0a861d76e5e2b0f1e3.jpg: ignoring corrupt image/label: non-normalized or out of bounds coordinates [     1.1225]\n",
            "\u001b[34m\u001b[1mtrain: \u001b[0m/content/Litter-Detection-1/train/images/203922_jpg.rf.226a831ae8184cb56c1b3991a63a0074.jpg: ignoring corrupt image/label: non-normalized or out of bounds coordinates [     1.0181]\n",
            "\u001b[34m\u001b[1mtrain: \u001b[0m/content/Litter-Detection-1/train/images/203922_jpg.rf.6cd8927dce40416ba1d4be056d7f8fdf.jpg: ignoring corrupt image/label: non-normalized or out of bounds coordinates [     1.1147      1.1933]\n",
            "\u001b[34m\u001b[1mtrain: \u001b[0m/content/Litter-Detection-1/train/images/203922_jpg.rf.e33ee6abcec3cb793d0b5d434bf64c04.jpg: ignoring corrupt image/label: non-normalized or out of bounds coordinates [     1.0947      1.1719]\n",
            "\u001b[34m\u001b[1mtrain: \u001b[0m/content/Litter-Detection-1/train/images/206322_jpg.rf.47cbf33a52bf98a430c7e967e6b80d95.jpg: ignoring corrupt image/label: non-normalized or out of bounds coordinates [     1.0314]\n",
            "\u001b[34m\u001b[1mtrain: \u001b[0m/content/Litter-Detection-1/train/images/206322_jpg.rf.6d11443df78dab64f118216a892b3920.jpg: ignoring corrupt image/label: non-normalized or out of bounds coordinates [     1.1204]\n",
            "\u001b[34m\u001b[1mtrain: \u001b[0m/content/Litter-Detection-1/train/images/206322_jpg.rf.a3efb4d01f0f7e6b67ba90ed308dab35.jpg: ignoring corrupt image/label: non-normalized or out of bounds coordinates [     1.1197]\n",
            "\u001b[34m\u001b[1mtrain: \u001b[0m/content/Litter-Detection-1/train/images/206322_jpg.rf.b1b915b7b7ebbf17aa457dece69e1beb.jpg: ignoring corrupt image/label: non-normalized or out of bounds coordinates [     1.0217]\n",
            "\u001b[34m\u001b[1mtrain: \u001b[0m/content/Litter-Detection-1/train/images/222980_jpg.rf.c2886da190e624a89cf01e426f043f9f.jpg: ignoring corrupt image/label: non-normalized or out of bounds coordinates [     1.0166]\n",
            "\u001b[34m\u001b[1mtrain: \u001b[0m/content/Litter-Detection-1/train/images/228696_jpg.rf.525d4419c53983c470fee371769bf77e.jpg: ignoring corrupt image/label: non-normalized or out of bounds coordinates [     1.1179]\n",
            "\u001b[34m\u001b[1mtrain: \u001b[0m/content/Litter-Detection-1/train/images/228696_jpg.rf.cf83dae2b711e133e84b0a3c1264250b.jpg: ignoring corrupt image/label: non-normalized or out of bounds coordinates [     1.1179]\n",
            "\u001b[34m\u001b[1mtrain: \u001b[0m/content/Litter-Detection-1/train/images/228696_jpg.rf.ed815d5fcb8ba950f23dfa5a8f94468d.jpg: ignoring corrupt image/label: non-normalized or out of bounds coordinates [      1.119]\n",
            "\u001b[34m\u001b[1mtrain: \u001b[0m/content/Litter-Detection-1/train/images/228696_jpg.rf.f9e2470d9c0d6cd8be236cd6b970ffcf.jpg: ignoring corrupt image/label: non-normalized or out of bounds coordinates [     1.0864]\n",
            "\u001b[34m\u001b[1mtrain: \u001b[0m/content/Litter-Detection-1/train/images/242780_jpg.rf.2bf2cee64f2ec94b0f6b2a6a66ba31c6.jpg: ignoring corrupt image/label: non-normalized or out of bounds coordinates [     1.0837]\n",
            "\u001b[34m\u001b[1mtrain: \u001b[0m/content/Litter-Detection-1/train/images/242780_jpg.rf.2c4314031da8927d979c4ab4149e5c45.jpg: ignoring corrupt image/label: non-normalized or out of bounds coordinates [     1.0347]\n",
            "\u001b[34m\u001b[1mtrain: \u001b[0m/content/Litter-Detection-1/train/images/243638_jpg.rf.65c5b352b5b89e74b955bfa54c438213.jpg: ignoring corrupt image/label: non-normalized or out of bounds coordinates [     1.0319]\n",
            "\u001b[34m\u001b[1mtrain: \u001b[0m/content/Litter-Detection-1/train/images/243676_jpg.rf.126f79b64bea4f65966eba86ae4899e4.jpg: ignoring corrupt image/label: non-normalized or out of bounds coordinates [     1.1132]\n",
            "\u001b[34m\u001b[1mtrain: \u001b[0m/content/Litter-Detection-1/train/images/243676_jpg.rf.618fbca42d031c23e4f289a4f6a6fd79.jpg: ignoring corrupt image/label: non-normalized or out of bounds coordinates [     1.1798]\n",
            "\u001b[34m\u001b[1mtrain: \u001b[0m/content/Litter-Detection-1/train/images/243676_jpg.rf.9c256025eca579ee8f23fb90ed6ac534.jpg: ignoring corrupt image/label: non-normalized or out of bounds coordinates [     1.0653]\n",
            "\u001b[34m\u001b[1mtrain: \u001b[0m/content/Litter-Detection-1/train/images/243676_jpg.rf.a05d44f837876a197afb54835cba6a00.jpg: ignoring corrupt image/label: non-normalized or out of bounds coordinates [      1.032]\n",
            "\u001b[34m\u001b[1mtrain: \u001b[0m/content/Litter-Detection-1/train/images/243676_jpg.rf.b39c8139ceaf656752dbb09ca25b1892.jpg: ignoring corrupt image/label: non-normalized or out of bounds coordinates [     1.0367]\n",
            "\u001b[34m\u001b[1mtrain: \u001b[0m/content/Litter-Detection-1/train/images/243676_jpg.rf.fb3d189d8334a04e0d3b0fb876278194.jpg: ignoring corrupt image/label: non-normalized or out of bounds coordinates [     1.0771]\n",
            "\u001b[34m\u001b[1mtrain: \u001b[0m/content/Litter-Detection-1/train/images/255850_jpg.rf.00dc92e9ca6fa3a96714dc47776adad9.jpg: ignoring corrupt image/label: non-normalized or out of bounds coordinates [     1.0526]\n",
            "\u001b[34m\u001b[1mtrain: \u001b[0m/content/Litter-Detection-1/train/images/255850_jpg.rf.801d2c57c58954310c34bc317d8da3d1.jpg: ignoring corrupt image/label: non-normalized or out of bounds coordinates [     1.1088]\n",
            "\u001b[34m\u001b[1mtrain: \u001b[0m/content/Litter-Detection-1/train/images/255850_jpg.rf.d76186a3da051777280ad4cf4246faad.jpg: ignoring corrupt image/label: non-normalized or out of bounds coordinates [     1.0395]\n",
            "\u001b[34m\u001b[1mtrain: \u001b[0m/content/Litter-Detection-1/train/images/255850_jpg.rf.fe95b9b58cccbaff31d10c88606cef31.jpg: ignoring corrupt image/label: non-normalized or out of bounds coordinates [     1.0395]\n",
            "\u001b[34m\u001b[1mtrain: \u001b[0m/content/Litter-Detection-1/train/images/257979_jpg.rf.24864cf72dadc88a80813e2c49006a13.jpg: ignoring corrupt image/label: non-normalized or out of bounds coordinates [     1.1057]\n",
            "\u001b[34m\u001b[1mtrain: \u001b[0m/content/Litter-Detection-1/train/images/257979_jpg.rf.c2caae929274a56f54a90e6d1fda21f0.jpg: ignoring corrupt image/label: non-normalized or out of bounds coordinates [     1.0943]\n",
            "\u001b[34m\u001b[1mtrain: \u001b[0m/content/Litter-Detection-1/train/images/257983_jpg.rf.a885750d473cc154612473c9fd11e8b4.jpg: ignoring corrupt image/label: non-normalized or out of bounds coordinates [     1.0895]\n",
            "\u001b[34m\u001b[1mtrain: \u001b[0m/content/Litter-Detection-1/train/images/257983_jpg.rf.b7d238ecab84a608114cf37982c59dde.jpg: ignoring corrupt image/label: non-normalized or out of bounds coordinates [     1.0895]\n",
            "\u001b[34m\u001b[1mtrain: \u001b[0m/content/Litter-Detection-1/train/images/257983_jpg.rf.d23840285c05bb516a59f106c713ba6f.jpg: ignoring corrupt image/label: non-normalized or out of bounds coordinates [     1.0503]\n",
            "\u001b[34m\u001b[1mtrain: \u001b[0m/content/Litter-Detection-1/train/images/257983_jpg.rf.e9b8ce89fee68ddaa47900f735f1ab23.jpg: ignoring corrupt image/label: non-normalized or out of bounds coordinates [     1.0607]\n",
            "\u001b[34m\u001b[1mtrain: \u001b[0m/content/Litter-Detection-1/train/images/257985_jpg.rf.3b51f1b0aebd710576b0599234feba7f.jpg: ignoring corrupt image/label: non-normalized or out of bounds coordinates [     1.0736]\n",
            "\u001b[34m\u001b[1mtrain: \u001b[0m/content/Litter-Detection-1/train/images/257985_jpg.rf.5dc514dc60a22bf5719f1c02706c89b0.jpg: ignoring corrupt image/label: non-normalized or out of bounds coordinates [     1.0803]\n",
            "\u001b[34m\u001b[1mtrain: \u001b[0m/content/Litter-Detection-1/train/images/257985_jpg.rf.eff5b157f450e1d077332e2794728565.jpg: ignoring corrupt image/label: non-normalized or out of bounds coordinates [     1.2584      1.1434]\n",
            "\u001b[34m\u001b[1mtrain: \u001b[0m/content/Litter-Detection-1/train/images/258311_jpg.rf.3227cb96c2a64e5a715d433ceed4aec5.jpg: ignoring corrupt image/label: non-normalized or out of bounds coordinates [     1.0338]\n",
            "\u001b[34m\u001b[1mtrain: \u001b[0m/content/Litter-Detection-1/train/images/258311_jpg.rf.4092c53a0986bf081cb7c7c524709787.jpg: ignoring corrupt image/label: non-normalized or out of bounds coordinates [     1.0451]\n",
            "\u001b[34m\u001b[1mtrain: \u001b[0m/content/Litter-Detection-1/train/images/258311_jpg.rf.5066564390b6bf029118d29332813c67.jpg: ignoring corrupt image/label: non-normalized or out of bounds coordinates [     1.0637]\n",
            "\u001b[34m\u001b[1mtrain: \u001b[0m/content/Litter-Detection-1/train/images/258311_jpg.rf.caf573e6813fc8e8802df0f9a54eb978.jpg: ignoring corrupt image/label: non-normalized or out of bounds coordinates [     1.0637]\n",
            "\u001b[34m\u001b[1mtrain: \u001b[0m/content/Litter-Detection-1/train/images/258311_jpg.rf.d44a593b7a617c7325a95f39d566856d.jpg: ignoring corrupt image/label: non-normalized or out of bounds coordinates [     1.0128]\n",
            "\u001b[34m\u001b[1mtrain: \u001b[0m/content/Litter-Detection-1/train/images/261533_jpg.rf.24283f6c35fe527c54660d8bad255d74.jpg: ignoring corrupt image/label: non-normalized or out of bounds coordinates [     1.0973      1.0309]\n",
            "\u001b[34m\u001b[1mtrain: \u001b[0m/content/Litter-Detection-1/train/images/261533_jpg.rf.284b3e59d59c9ac329232cd866cfc837.jpg: ignoring corrupt image/label: non-normalized or out of bounds coordinates [     1.0492]\n",
            "\u001b[34m\u001b[1mtrain: \u001b[0m/content/Litter-Detection-1/train/images/261533_jpg.rf.c449e42a59807668dca2b1468a886683.jpg: ignoring corrupt image/label: non-normalized or out of bounds coordinates [     1.1327      1.0642]\n",
            "\u001b[34m\u001b[1mtrain: \u001b[0m/content/Litter-Detection-1/train/images/276344_jpg.rf.463b435949cbf3a8fa36ad0e3da2a63d.jpg: ignoring corrupt image/label: non-normalized or out of bounds coordinates [     1.1981]\n",
            "\u001b[34m\u001b[1mtrain: \u001b[0m/content/Litter-Detection-1/train/images/276344_jpg.rf.b8561ea669db09f0a648b4a0655c5276.jpg: ignoring corrupt image/label: non-normalized or out of bounds coordinates [     1.0716]\n",
            "\u001b[34m\u001b[1mtrain: \u001b[0m/content/Litter-Detection-1/train/images/276344_jpg.rf.e369ca4de9cce97f3269b7a015ef367d.jpg: ignoring corrupt image/label: non-normalized or out of bounds coordinates [     1.1392]\n",
            "\u001b[34m\u001b[1mtrain: \u001b[0m/content/Litter-Detection-1/train/images/276398_jpg.rf.6bbfdeba146b249446dcd34c51fee60b.jpg: ignoring corrupt image/label: non-normalized or out of bounds coordinates [     1.0498]\n",
            "\u001b[34m\u001b[1mtrain: \u001b[0m/content/Litter-Detection-1/train/images/296419_jpg.rf.09a6e35d9a1d995aa7f14e3e4ccc88ac.jpg: ignoring corrupt image/label: non-normalized or out of bounds coordinates [     1.0231]\n",
            "\u001b[34m\u001b[1mtrain: \u001b[0m/content/Litter-Detection-1/train/images/296419_jpg.rf.6bf21aca13fd8a583fa06bb6a5806cee.jpg: ignoring corrupt image/label: non-normalized or out of bounds coordinates [     1.0183]\n",
            "\u001b[34m\u001b[1mtrain: \u001b[0m/content/Litter-Detection-1/train/images/296419_jpg.rf.c0818cfeefb49f2d997d62ab557810b9.jpg: ignoring corrupt image/label: non-normalized or out of bounds coordinates [     1.0237]\n",
            "\u001b[34m\u001b[1mtrain: \u001b[0m/content/Litter-Detection-1/train/images/296419_jpg.rf.ec00c7317ee396a93093e638a0a0767d.jpg: ignoring corrupt image/label: non-normalized or out of bounds coordinates [     1.0217]\n",
            "\u001b[34m\u001b[1mtrain: \u001b[0m/content/Litter-Detection-1/train/images/296821_jpg.rf.47b237da32849038fbb267e27a8c7efe.jpg: ignoring corrupt image/label: non-normalized or out of bounds coordinates [     1.0303]\n",
            "\u001b[34m\u001b[1mtrain: \u001b[0m/content/Litter-Detection-1/train/images/296821_jpg.rf.48f02c5dba3b6d86c2fea786f77dcef8.jpg: ignoring corrupt image/label: non-normalized or out of bounds coordinates [     1.0105]\n",
            "\u001b[34m\u001b[1mtrain: \u001b[0m/content/Litter-Detection-1/train/images/296821_jpg.rf.80bf35e225d0d91c861d5c1e44810982.jpg: ignoring corrupt image/label: non-normalized or out of bounds coordinates [     1.0378]\n",
            "\u001b[34m\u001b[1mtrain: \u001b[0m/content/Litter-Detection-1/train/images/296821_jpg.rf.8c432a2a5f6fe83b5c31d859c0bb36bb.jpg: ignoring corrupt image/label: non-normalized or out of bounds coordinates [     1.0187]\n",
            "\u001b[34m\u001b[1mtrain: \u001b[0m/content/Litter-Detection-1/train/images/296821_jpg.rf.c1b573a98783de56e479ccc606f16772.jpg: ignoring corrupt image/label: non-normalized or out of bounds coordinates [     1.0181]\n",
            "\u001b[34m\u001b[1mtrain: \u001b[0m/content/Litter-Detection-1/train/images/296822_jpg.rf.cc576eeb1e2c15eb94d3a5eec4a2c279.jpg: ignoring corrupt image/label: non-normalized or out of bounds coordinates [     1.0992]\n",
            "\u001b[34m\u001b[1mtrain: \u001b[0m/content/Litter-Detection-1/train/images/296822_jpg.rf.ce349140c9e0d3009378080dc65f779a.jpg: ignoring corrupt image/label: non-normalized or out of bounds coordinates [      1.097]\n",
            "\u001b[34m\u001b[1mtrain: \u001b[0m/content/Litter-Detection-1/train/images/296822_jpg.rf.eefce231e87f1de9a6aca31d8d41493e.jpg: ignoring corrupt image/label: non-normalized or out of bounds coordinates [     1.0503]\n",
            "\u001b[34m\u001b[1mtrain: \u001b[0m/content/Litter-Detection-1/train/images/296822_jpg.rf.f00a657b2f61d66443f4289846c80cc0.jpg: ignoring corrupt image/label: non-normalized or out of bounds coordinates [      1.047]\n",
            "\u001b[34m\u001b[1mtrain: \u001b[0m/content/Litter-Detection-1/train/images/296823_jpg.rf.019447e77a3129bae40a8d562f94d245.jpg: ignoring corrupt image/label: non-normalized or out of bounds coordinates [     1.0489]\n",
            "\u001b[34m\u001b[1mtrain: \u001b[0m/content/Litter-Detection-1/train/images/296823_jpg.rf.39907f7dda12ac6bc1da1e4ac974f9b5.jpg: ignoring corrupt image/label: non-normalized or out of bounds coordinates [     1.0146]\n",
            "\u001b[34m\u001b[1mtrain: \u001b[0m/content/Litter-Detection-1/train/images/296823_jpg.rf.49847a8b4945a31d944694976bb83421.jpg: ignoring corrupt image/label: non-normalized or out of bounds coordinates [     1.0146]\n",
            "\u001b[34m\u001b[1mtrain: \u001b[0m/content/Litter-Detection-1/train/images/296823_jpg.rf.82627d6155def8224c3c80f25ee85f81.jpg: ignoring corrupt image/label: non-normalized or out of bounds coordinates [     1.1596]\n",
            "\u001b[34m\u001b[1mtrain: \u001b[0m/content/Litter-Detection-1/train/images/296823_jpg.rf.a9242ee4668e8d592648a20ab99677d6.jpg: ignoring corrupt image/label: non-normalized or out of bounds coordinates [     1.1247]\n",
            "\u001b[34m\u001b[1mtrain: \u001b[0m/content/Litter-Detection-1/train/images/296823_jpg.rf.f19c28ba642dc7698f944937b8ec2563.jpg: ignoring corrupt image/label: non-normalized or out of bounds coordinates [     1.0194]\n",
            "\u001b[34m\u001b[1mtrain: \u001b[0m/content/Litter-Detection-1/train/images/296828_jpg.rf.1b3244d719823a7706b1f43cc07e6742.jpg: ignoring corrupt image/label: non-normalized or out of bounds coordinates [     1.0529]\n",
            "\u001b[34m\u001b[1mtrain: \u001b[0m/content/Litter-Detection-1/train/images/296839_jpg.rf.182f5d5662469e60d09d1f792f15bd10.jpg: ignoring corrupt image/label: non-normalized or out of bounds coordinates [     1.0135]\n",
            "\u001b[34m\u001b[1mtrain: \u001b[0m/content/Litter-Detection-1/train/images/297085_jpg.rf.04c30476ccd9ff3681311ded58f687b4.jpg: ignoring corrupt image/label: non-normalized or out of bounds coordinates [     1.1178]\n",
            "\u001b[34m\u001b[1mtrain: \u001b[0m/content/Litter-Detection-1/train/images/297085_jpg.rf.15f178609f8e7565d4c458496d7e33c7.jpg: ignoring corrupt image/label: non-normalized or out of bounds coordinates [     1.0418]\n",
            "\u001b[34m\u001b[1mtrain: \u001b[0m/content/Litter-Detection-1/train/images/297085_jpg.rf.1acc386bd6ef8d70851b5d3bb7c67e1e.jpg: ignoring corrupt image/label: non-normalized or out of bounds coordinates [     1.1201]\n",
            "\u001b[34m\u001b[1mtrain: \u001b[0m/content/Litter-Detection-1/train/images/297085_jpg.rf.80770b57347073bc311787dd1ca1ce3e.jpg: ignoring corrupt image/label: non-normalized or out of bounds coordinates [      1.055]\n",
            "\u001b[34m\u001b[1mtrain: \u001b[0m/content/Litter-Detection-1/train/images/297085_jpg.rf.8b71e7676cd4a0d8213cf004bdeb024d.jpg: ignoring corrupt image/label: non-normalized or out of bounds coordinates [      1.132]\n",
            "\u001b[34m\u001b[1mtrain: \u001b[0m/content/Litter-Detection-1/train/images/297097_jpg.rf.64f3808322c5dee0d889ebddb8c168c3.jpg: ignoring corrupt image/label: non-normalized or out of bounds coordinates [     1.0138]\n",
            "\u001b[34m\u001b[1mtrain: \u001b[0m/content/Litter-Detection-1/train/images/297097_jpg.rf.776e34b900d3c662151babe0b8b1be80.jpg: ignoring corrupt image/label: non-normalized or out of bounds coordinates [     1.0304]\n",
            "\u001b[34m\u001b[1mtrain: \u001b[0m/content/Litter-Detection-1/train/images/297113_jpg.rf.06d54d6472ad9f7ee0c50b6a23f07103.jpg: ignoring corrupt image/label: non-normalized or out of bounds coordinates [     1.1546]\n",
            "\u001b[34m\u001b[1mtrain: \u001b[0m/content/Litter-Detection-1/train/images/297113_jpg.rf.6497f2977fb210d00856e0a3799a313e.jpg: ignoring corrupt image/label: non-normalized or out of bounds coordinates [     1.1356]\n",
            "\u001b[34m\u001b[1mtrain: \u001b[0m/content/Litter-Detection-1/train/images/297113_jpg.rf.8ff9396f6142c12a953ceb13ddaf7648.jpg: ignoring corrupt image/label: non-normalized or out of bounds coordinates [     1.1282]\n",
            "\u001b[34m\u001b[1mtrain: \u001b[0m/content/Litter-Detection-1/train/images/297113_jpg.rf.e998073c4449849d29861862b9501a07.jpg: ignoring corrupt image/label: non-normalized or out of bounds coordinates [     1.0413]\n",
            "\u001b[34m\u001b[1mtrain: \u001b[0m/content/Litter-Detection-1/train/images/297113_jpg.rf.eca5d81f2fd0af8f645640ee6b3139f6.jpg: ignoring corrupt image/label: non-normalized or out of bounds coordinates [     1.1329]\n",
            "\u001b[34m\u001b[1mtrain: \u001b[0m/content/Litter-Detection-1/train/images/297113_jpg.rf.ef000b6fd44afa962c6818c82e60f9f0.jpg: ignoring corrupt image/label: non-normalized or out of bounds coordinates [     1.0753]\n",
            "\u001b[34m\u001b[1mtrain: \u001b[0m/content/Litter-Detection-1/train/images/297137_jpg.rf.29e98ae8a1b09f37d7f1f5e5b4ad4b1a.jpg: ignoring corrupt image/label: non-normalized or out of bounds coordinates [     1.0167]\n",
            "\u001b[34m\u001b[1mtrain: \u001b[0m/content/Litter-Detection-1/train/images/297137_jpg.rf.2a2c4280c9e1198a358962ec3e4c68dc.jpg: ignoring corrupt image/label: non-normalized or out of bounds coordinates [     1.0412]\n",
            "\u001b[34m\u001b[1mtrain: \u001b[0m/content/Litter-Detection-1/train/images/297137_jpg.rf.30f3d3bfecaf60bb1ce25af03587e8da.jpg: ignoring corrupt image/label: non-normalized or out of bounds coordinates [     1.0559]\n",
            "\u001b[34m\u001b[1mtrain: \u001b[0m/content/Litter-Detection-1/train/images/297137_jpg.rf.6056ac5cfa92d97d581b032125015d54.jpg: ignoring corrupt image/label: non-normalized or out of bounds coordinates [     1.0132]\n",
            "\u001b[34m\u001b[1mtrain: \u001b[0m/content/Litter-Detection-1/train/images/297137_jpg.rf.e873b6279445683fbf546d1287d725e7.jpg: ignoring corrupt image/label: non-normalized or out of bounds coordinates [     1.0577]\n",
            "\u001b[34m\u001b[1mtrain: \u001b[0m/content/Litter-Detection-1/train/images/297137_jpg.rf.ed37777373ab471fd7092c2108171e79.jpg: ignoring corrupt image/label: non-normalized or out of bounds coordinates [     1.0366]\n",
            "\u001b[34m\u001b[1mtrain: \u001b[0m/content/Litter-Detection-1/train/images/297319_jpg.rf.14a6a7ecd105d2ba00908590a9a14ad4.jpg: ignoring corrupt image/label: non-normalized or out of bounds coordinates [     1.0629]\n",
            "\u001b[34m\u001b[1mtrain: \u001b[0m/content/Litter-Detection-1/train/images/297319_jpg.rf.4b5aeb044e93aab34cb2286123b8c529.jpg: ignoring corrupt image/label: non-normalized or out of bounds coordinates [      1.026]\n",
            "\u001b[34m\u001b[1mtrain: \u001b[0m/content/Litter-Detection-1/train/images/297319_jpg.rf.cc51677fd7d8fa07bcdaa76aa512d647.jpg: ignoring corrupt image/label: non-normalized or out of bounds coordinates [     1.0496]\n",
            "\u001b[34m\u001b[1mtrain: \u001b[0m/content/Litter-Detection-1/train/images/297327_jpg.rf.064243528bc0a31a53bd94a3acccb888.jpg: ignoring corrupt image/label: non-normalized or out of bounds coordinates [     1.0543]\n",
            "\u001b[34m\u001b[1mtrain: \u001b[0m/content/Litter-Detection-1/train/images/297327_jpg.rf.81987722234ff1b8b18d546ee4371742.jpg: ignoring corrupt image/label: non-normalized or out of bounds coordinates [     1.0361]\n",
            "\u001b[34m\u001b[1mtrain: \u001b[0m/content/Litter-Detection-1/train/images/297537_jpg.rf.25c1b1f046cee20457f57d109eaf3b5d.jpg: ignoring corrupt image/label: non-normalized or out of bounds coordinates [     1.0276]\n",
            "\u001b[34m\u001b[1mtrain: \u001b[0m/content/Litter-Detection-1/train/images/298333_jpg.rf.63f4dab3647b7c659c27c9d48effc847.jpg: ignoring corrupt image/label: non-normalized or out of bounds coordinates [     1.0629      1.1435]\n",
            "\u001b[34m\u001b[1mtrain: \u001b[0m/content/Litter-Detection-1/train/images/298333_jpg.rf.b25e3cd648c606ffdd726b3d188eda12.jpg: ignoring corrupt image/label: non-normalized or out of bounds coordinates [     1.0464]\n",
            "\u001b[34m\u001b[1mtrain: \u001b[0m/content/Litter-Detection-1/train/images/298345_jpg.rf.4774e5926fdbfdd6b4115f98aacd7214.jpg: ignoring corrupt image/label: non-normalized or out of bounds coordinates [     1.0281]\n",
            "\u001b[34m\u001b[1mtrain: \u001b[0m/content/Litter-Detection-1/train/images/298345_jpg.rf.9b1bb84c54eec0b5e237952317a8a610.jpg: ignoring corrupt image/label: non-normalized or out of bounds coordinates [     1.0575]\n",
            "\u001b[34m\u001b[1mtrain: \u001b[0m/content/Litter-Detection-1/train/images/299152_jpg.rf.475a21522a120cf5045b36d7d5c68db7.jpg: ignoring corrupt image/label: non-normalized or out of bounds coordinates [      1.011]\n",
            "\u001b[34m\u001b[1mtrain: \u001b[0m/content/Litter-Detection-1/train/images/299152_jpg.rf.50dc665f7ba0c36b20345393b733a3f7.jpg: ignoring corrupt image/label: non-normalized or out of bounds coordinates [     1.0573]\n",
            "\u001b[34m\u001b[1mtrain: \u001b[0m/content/Litter-Detection-1/train/images/299152_jpg.rf.8aa3bd4243fd5e81176b3c4d0b694edc.jpg: ignoring corrupt image/label: non-normalized or out of bounds coordinates [     1.0405]\n",
            "\u001b[34m\u001b[1mtrain: \u001b[0m/content/Litter-Detection-1/train/images/299152_jpg.rf.bff093241c23172d02fd4d1e63df4fed.jpg: ignoring corrupt image/label: non-normalized or out of bounds coordinates [     1.1601]\n",
            "\u001b[34m\u001b[1mtrain: \u001b[0m/content/Litter-Detection-1/train/images/299152_jpg.rf.e5cd1bf5aa9c09e76ee80bb8df999113.jpg: ignoring corrupt image/label: non-normalized or out of bounds coordinates [     1.1977]\n",
            "\u001b[34m\u001b[1mtrain: \u001b[0m/content/Litter-Detection-1/train/images/299152_jpg.rf.fad3bd5d00ae5f85be6180e6c9936598.jpg: ignoring corrupt image/label: non-normalized or out of bounds coordinates [     1.1807]\n",
            "\u001b[34m\u001b[1mtrain: \u001b[0m/content/Litter-Detection-1/train/images/300478_jpg.rf.4e13ec4fe3fc325bd33467b42ffc42df.jpg: ignoring corrupt image/label: non-normalized or out of bounds coordinates [     1.1104]\n",
            "\u001b[34m\u001b[1mtrain: \u001b[0m/content/Litter-Detection-1/train/images/300478_jpg.rf.9c8ddfa63ee4cd91d4d78d9a4f5ee362.jpg: ignoring corrupt image/label: non-normalized or out of bounds coordinates [     1.0259]\n",
            "\u001b[34m\u001b[1mtrain: \u001b[0m/content/Litter-Detection-1/train/images/300485_jpg.rf.12d1285bdbcfc90b7582173ec062a871.jpg: ignoring corrupt image/label: non-normalized or out of bounds coordinates [     1.1351]\n",
            "\u001b[34m\u001b[1mtrain: \u001b[0m/content/Litter-Detection-1/train/images/300485_jpg.rf.3027e8ea355c390a7bcef03e96032cfc.jpg: ignoring corrupt image/label: non-normalized or out of bounds coordinates [     1.0623]\n",
            "\u001b[34m\u001b[1mtrain: \u001b[0m/content/Litter-Detection-1/train/images/300485_jpg.rf.5f43fa04b7666911d6cc4c2cf12a0379.jpg: ignoring corrupt image/label: non-normalized or out of bounds coordinates [     1.0632]\n",
            "\u001b[34m\u001b[1mtrain: \u001b[0m/content/Litter-Detection-1/train/images/300485_jpg.rf.b3b33d072226a6c87a79bebc28d39e85.jpg: ignoring corrupt image/label: non-normalized or out of bounds coordinates [     1.0208]\n",
            "\u001b[34m\u001b[1mtrain: \u001b[0m/content/Litter-Detection-1/train/images/300485_jpg.rf.ef73cce39d95986424539f025482a98b.jpg: ignoring corrupt image/label: non-normalized or out of bounds coordinates [      1.071]\n",
            "\u001b[34m\u001b[1mtrain: \u001b[0m/content/Litter-Detection-1/train/images/300489_jpg.rf.f047523e9625a5f831f5909424f977f9.jpg: ignoring corrupt image/label: non-normalized or out of bounds coordinates [     1.1155]\n",
            "\u001b[34m\u001b[1mtrain: \u001b[0m/content/Litter-Detection-1/train/images/303276_jpg.rf.18ebe6fd26e768f3df04c0ee62098854.jpg: ignoring corrupt image/label: non-normalized or out of bounds coordinates [     1.0164]\n",
            "\u001b[34m\u001b[1mtrain: \u001b[0m/content/Litter-Detection-1/train/images/303467_jpg.rf.c795e99435e75c8d3f25e7b626d7dd43.jpg: ignoring corrupt image/label: non-normalized or out of bounds coordinates [     1.0392]\n",
            "\u001b[34m\u001b[1mtrain: \u001b[0m/content/Litter-Detection-1/train/images/303588_jpg.rf.cb69ea9af1bf763dfb1d83e89655e295.jpg: ignoring corrupt image/label: non-normalized or out of bounds coordinates [     1.0195]\n",
            "\u001b[34m\u001b[1mtrain: \u001b[0m/content/Litter-Detection-1/train/images/303628_jpg.rf.6516563828f14d3e3947317f530440b9.jpg: ignoring corrupt image/label: non-normalized or out of bounds coordinates [     1.0625]\n",
            "\u001b[34m\u001b[1mtrain: \u001b[0m/content/Litter-Detection-1/train/images/303635_jpg.rf.250592c890af403f7cf41f5e2d357b4e.jpg: ignoring corrupt image/label: non-normalized or out of bounds coordinates [     1.1098]\n",
            "\u001b[34m\u001b[1mtrain: \u001b[0m/content/Litter-Detection-1/train/images/303635_jpg.rf.634a1b5d8e0134f83269f8e066298c92.jpg: ignoring corrupt image/label: non-normalized or out of bounds coordinates [     1.0937]\n",
            "\u001b[34m\u001b[1mtrain: \u001b[0m/content/Litter-Detection-1/train/images/304696_jpg.rf.a5970b071aff292902c8edcc14ac72fa.jpg: ignoring corrupt image/label: non-normalized or out of bounds coordinates [     1.0119]\n",
            "\u001b[34m\u001b[1mtrain: \u001b[0m/content/Litter-Detection-1/train/images/304696_jpg.rf.b7689dd9d05d134ede4979b4ef3551d5.jpg: ignoring corrupt image/label: non-normalized or out of bounds coordinates [     1.1603]\n",
            "\u001b[34m\u001b[1mtrain: \u001b[0m/content/Litter-Detection-1/train/images/304696_jpg.rf.e0e3e106fcdc3a74cc5fc5812f4d0884.jpg: ignoring corrupt image/label: non-normalized or out of bounds coordinates [     1.0541]\n",
            "\u001b[34m\u001b[1mtrain: \u001b[0m/content/Litter-Detection-1/train/images/306506_jpg.rf.440d1afc08a6ae81ff7bc930e5b6f586.jpg: ignoring corrupt image/label: non-normalized or out of bounds coordinates [     1.0246]\n",
            "\u001b[34m\u001b[1mtrain: \u001b[0m/content/Litter-Detection-1/train/images/306997_jpg.rf.a5281f78d5094b689b25dd95fa201a63.jpg: ignoring corrupt image/label: non-normalized or out of bounds coordinates [     1.0398]\n",
            "\u001b[34m\u001b[1mtrain: \u001b[0m/content/Litter-Detection-1/train/images/309168_jpg.rf.8c1c31077c9f5ca1597c1ea419217ebf.jpg: ignoring corrupt image/label: non-normalized or out of bounds coordinates [     1.0258]\n",
            "\u001b[34m\u001b[1mtrain: \u001b[0m/content/Litter-Detection-1/train/images/320101_jpg.rf.2027c4f699c588de8d183e67beb20303.jpg: ignoring corrupt image/label: non-normalized or out of bounds coordinates [     1.0496]\n",
            "\u001b[34m\u001b[1mtrain: \u001b[0m/content/Litter-Detection-1/train/images/320101_jpg.rf.4c34ad242b2cb40aa3f0c87e01211fcf.jpg: ignoring corrupt image/label: non-normalized or out of bounds coordinates [     1.0493]\n",
            "\u001b[34m\u001b[1mtrain: \u001b[0m/content/Litter-Detection-1/train/images/327376_jpg.rf.d274926b1d22532f9eaf9877f7497256.jpg: ignoring corrupt image/label: non-normalized or out of bounds coordinates [     1.0272]\n",
            "\u001b[34m\u001b[1mtrain: \u001b[0m/content/Litter-Detection-1/train/images/331167_jpg.rf.48f46ee6a05f22888619c17b578d225f.jpg: ignoring corrupt image/label: non-normalized or out of bounds coordinates [     1.0148]\n",
            "\u001b[34m\u001b[1mtrain: \u001b[0m/content/Litter-Detection-1/train/images/331167_jpg.rf.52766a8a14485ef65c272179504c8cb6.jpg: ignoring corrupt image/label: non-normalized or out of bounds coordinates [     1.0138]\n",
            "\u001b[34m\u001b[1mtrain: \u001b[0m/content/Litter-Detection-1/train/images/331167_jpg.rf.62719cd52971485d4f6a7c5bbcca878d.jpg: ignoring corrupt image/label: non-normalized or out of bounds coordinates [     1.0132]\n",
            "\u001b[34m\u001b[1mtrain: \u001b[0m/content/Litter-Detection-1/train/images/331167_jpg.rf.fa256b6e88d4e0ce624fdfc8a0c64af4.jpg: ignoring corrupt image/label: non-normalized or out of bounds coordinates [     1.0135]\n",
            "\u001b[34m\u001b[1mtrain: \u001b[0m/content/Litter-Detection-1/train/images/331532_jpg.rf.9fefc297aa7265211442cdf80ad88667.jpg: ignoring corrupt image/label: non-normalized or out of bounds coordinates [     1.0115]\n",
            "\u001b[34m\u001b[1mtrain: \u001b[0m/content/Litter-Detection-1/train/images/331532_jpg.rf.f7c5f74580f35b16f6f6f13d68b72002.jpg: ignoring corrupt image/label: non-normalized or out of bounds coordinates [     1.0621]\n",
            "\u001b[34m\u001b[1mtrain: \u001b[0m/content/Litter-Detection-1/train/images/332261_jpg.rf.221649dd4cddda1df93b8f59b8826eec.jpg: ignoring corrupt image/label: non-normalized or out of bounds coordinates [     1.0741      1.1681]\n",
            "\u001b[34m\u001b[1mtrain: \u001b[0m/content/Litter-Detection-1/train/images/332261_jpg.rf.87907ac678f5cb51ba59a21921f27ade.jpg: ignoring corrupt image/label: non-normalized or out of bounds coordinates [     1.0273]\n",
            "\u001b[34m\u001b[1mtrain: \u001b[0m/content/Litter-Detection-1/train/images/332320_jpg.rf.0591be1e672031206e3f550b05a66d95.jpg: ignoring corrupt image/label: non-normalized or out of bounds coordinates [       1.06]\n",
            "\u001b[34m\u001b[1mtrain: \u001b[0m/content/Litter-Detection-1/train/images/335454_jpg.rf.5dbabd47ef081b5a50a0b41da813a184.jpg: ignoring corrupt image/label: non-normalized or out of bounds coordinates [     1.0496]\n",
            "\u001b[34m\u001b[1mtrain: \u001b[0m/content/Litter-Detection-1/train/images/337951_jpg.rf.7bf3204739900f4ed47f91a6499573ff.jpg: ignoring corrupt image/label: non-normalized or out of bounds coordinates [     1.1277]\n",
            "\u001b[34m\u001b[1mtrain: \u001b[0m/content/Litter-Detection-1/train/images/338153_jpg.rf.0ca238d2c2363739cf02611cf770eedd.jpg: ignoring corrupt image/label: non-normalized or out of bounds coordinates [     1.0231]\n",
            "\u001b[34m\u001b[1mtrain: \u001b[0m/content/Litter-Detection-1/train/images/338153_jpg.rf.5b2579a1ce52a751db857ba50d4d70c4.jpg: ignoring corrupt image/label: non-normalized or out of bounds coordinates [     1.0383]\n",
            "\u001b[34m\u001b[1mtrain: \u001b[0m/content/Litter-Detection-1/train/images/338153_jpg.rf.6c7fa8d0df39d7eacab5c02748d94bf5.jpg: ignoring corrupt image/label: non-normalized or out of bounds coordinates [     1.1208]\n",
            "\u001b[34m\u001b[1mtrain: \u001b[0m/content/Litter-Detection-1/train/images/338186_jpg.rf.7912504856e2ffe7187e35c424d5542a.jpg: ignoring corrupt image/label: non-normalized or out of bounds coordinates [     1.0526]\n",
            "\u001b[34m\u001b[1mtrain: \u001b[0m/content/Litter-Detection-1/train/images/338186_jpg.rf.97ae95761c35c3f7fb14c7161fc5d538.jpg: ignoring corrupt image/label: non-normalized or out of bounds coordinates [     1.0904]\n",
            "\u001b[34m\u001b[1mtrain: \u001b[0m/content/Litter-Detection-1/train/images/338186_jpg.rf.a8ceb35fa0305b9b54715a0ee101a8d2.jpg: ignoring corrupt image/label: non-normalized or out of bounds coordinates [     1.0582]\n",
            "\u001b[34m\u001b[1mtrain: \u001b[0m/content/Litter-Detection-1/train/images/338186_jpg.rf.e528bcdd8cf508b401afeada2053d318.jpg: ignoring corrupt image/label: non-normalized or out of bounds coordinates [     1.0295]\n",
            "\u001b[34m\u001b[1mtrain: \u001b[0mNew cache created: /content/Litter-Detection-1/train/labels.cache\n",
            "\u001b[34m\u001b[1malbumentations: \u001b[0mBlur(p=0.01, blur_limit=(3, 7)), MedianBlur(p=0.01, blur_limit=(3, 7)), ToGray(p=0.01, method='weighted_average', num_output_channels=3), CLAHE(p=0.01, clip_limit=(1.0, 4.0), tile_grid_size=(8, 8))\n",
            "\u001b[34m\u001b[1mval: \u001b[0mFast image access ✅ (ping: 0.1±0.1 ms, read: 1193.0±746.3 MB/s, size: 109.5 KB)\n",
            "\u001b[K\u001b[34m\u001b[1mval: \u001b[0mScanning /content/Litter-Detection-1/valid/labels... 649 images, 40 backgrounds, 3 corrupt: 100% ━━━━━━━━━━━━ 649/649 947.4it/s 0.7s\n",
            "\u001b[34m\u001b[1mval: \u001b[0m/content/Litter-Detection-1/valid/images/297319_jpg.rf.a11173870d3d8c3fe5e93e17a61f49a2.jpg: ignoring corrupt image/label: non-normalized or out of bounds coordinates [     1.1027]\n",
            "\u001b[34m\u001b[1mval: \u001b[0m/content/Litter-Detection-1/valid/images/298333_jpg.rf.1f5c9f2aceb6d2171cb89d2aa454b773.jpg: ignoring corrupt image/label: non-normalized or out of bounds coordinates [     1.0363]\n",
            "\u001b[34m\u001b[1mval: \u001b[0m/content/Litter-Detection-1/valid/images/320101_jpg.rf.dca4079932d7bd3911a4ae8e6fcea06e.jpg: ignoring corrupt image/label: non-normalized or out of bounds coordinates [      1.039]\n",
            "\u001b[34m\u001b[1mval: \u001b[0mNew cache created: /content/Litter-Detection-1/valid/labels.cache\n",
            "Plotting labels to /content/runs/detect/yolov8n_trash_custom2/labels.jpg... \n",
            "\u001b[34m\u001b[1moptimizer:\u001b[0m 'optimizer=auto' found, ignoring 'lr0=0.01' and 'momentum=0.937' and determining best 'optimizer', 'lr0' and 'momentum' automatically... \n",
            "\u001b[34m\u001b[1moptimizer:\u001b[0m SGD(lr=0.01, momentum=0.9) with parameter groups 57 weight(decay=0.0), 64 weight(decay=0.0005), 63 bias(decay=0.0)\n",
            "Image sizes 640 train, 640 val\n",
            "Using 2 dataloader workers\n",
            "Logging results to \u001b[1m/content/runs/detect/yolov8n_trash_custom2\u001b[0m\n",
            "Starting training for 100 epochs...\n",
            "\n",
            "      Epoch    GPU_mem   box_loss   cls_loss   dfl_loss  Instances       Size\n",
            "\u001b[K      1/100      1.12G      1.368      1.996      1.362          8        640: 100% ━━━━━━━━━━━━ 1841/1841 5.0it/s 6:08\n",
            "\u001b[K                 Class     Images  Instances      Box(P          R      mAP50  mAP50-95): 100% ━━━━━━━━━━━━ 41/41 5.2it/s 7.8s\n",
            "                   all        646       1447      0.735      0.535      0.619      0.376\n",
            "\n",
            "      Epoch    GPU_mem   box_loss   cls_loss   dfl_loss  Instances       Size\n",
            "\u001b[K      2/100      1.34G      1.404      1.594      1.392          4        640: 100% ━━━━━━━━━━━━ 1841/1841 5.3it/s 5:50\n",
            "\u001b[K                 Class     Images  Instances      Box(P          R      mAP50  mAP50-95): 100% ━━━━━━━━━━━━ 41/41 7.4it/s 5.5s\n",
            "                   all        646       1447      0.726      0.523      0.598      0.357\n",
            "\n",
            "      Epoch    GPU_mem   box_loss   cls_loss   dfl_loss  Instances       Size\n",
            "\u001b[K      3/100      1.35G       1.49      1.617      1.459          3        640: 100% ━━━━━━━━━━━━ 1841/1841 5.5it/s 5:34\n",
            "\u001b[K                 Class     Images  Instances      Box(P          R      mAP50  mAP50-95): 100% ━━━━━━━━━━━━ 41/41 6.2it/s 6.6s\n",
            "                   all        646       1447      0.663      0.533       0.58      0.342\n",
            "\n",
            "      Epoch    GPU_mem   box_loss   cls_loss   dfl_loss  Instances       Size\n",
            "\u001b[K      4/100      1.36G       1.53      1.626      1.505          2        640: 100% ━━━━━━━━━━━━ 1841/1841 5.6it/s 5:29\n",
            "\u001b[K                 Class     Images  Instances      Box(P          R      mAP50  mAP50-95): 100% ━━━━━━━━━━━━ 41/41 8.4it/s 4.9s\n",
            "                   all        646       1447      0.697      0.509      0.586      0.354\n",
            "\n",
            "      Epoch    GPU_mem   box_loss   cls_loss   dfl_loss  Instances       Size\n",
            "\u001b[K      5/100      1.37G      1.463       1.52      1.471          7        640: 100% ━━━━━━━━━━━━ 1841/1841 5.6it/s 5:31\n",
            "\u001b[K                 Class     Images  Instances      Box(P          R      mAP50  mAP50-95): 100% ━━━━━━━━━━━━ 41/41 8.0it/s 5.2s\n",
            "                   all        646       1447      0.661      0.563      0.616      0.393\n",
            "\n",
            "      Epoch    GPU_mem   box_loss   cls_loss   dfl_loss  Instances       Size\n",
            "\u001b[K      6/100      1.38G      1.415      1.449       1.44          3        640: 100% ━━━━━━━━━━━━ 1841/1841 5.6it/s 5:29\n",
            "\u001b[K                 Class     Images  Instances      Box(P          R      mAP50  mAP50-95): 100% ━━━━━━━━━━━━ 41/41 6.5it/s 6.3s\n",
            "                   all        646       1447      0.737      0.572      0.654      0.423\n",
            "\n",
            "      Epoch    GPU_mem   box_loss   cls_loss   dfl_loss  Instances       Size\n",
            "\u001b[K      7/100      1.39G      1.371      1.379      1.411          3        640: 100% ━━━━━━━━━━━━ 1841/1841 5.6it/s 5:28\n",
            "\u001b[K                 Class     Images  Instances      Box(P          R      mAP50  mAP50-95): 100% ━━━━━━━━━━━━ 41/41 8.0it/s 5.1s\n",
            "                   all        646       1447      0.755      0.574      0.671      0.444\n",
            "\n",
            "      Epoch    GPU_mem   box_loss   cls_loss   dfl_loss  Instances       Size\n",
            "\u001b[K      8/100      1.39G      1.346      1.335      1.401          7        640: 100% ━━━━━━━━━━━━ 1841/1841 5.6it/s 5:29\n",
            "\u001b[K                 Class     Images  Instances      Box(P          R      mAP50  mAP50-95): 100% ━━━━━━━━━━━━ 41/41 8.3it/s 5.0s\n",
            "                   all        646       1447      0.767      0.598      0.703      0.465\n",
            "\n",
            "      Epoch    GPU_mem   box_loss   cls_loss   dfl_loss  Instances       Size\n",
            "\u001b[K      9/100      1.41G      1.315      1.284      1.383          4        640: 100% ━━━━━━━━━━━━ 1841/1841 5.5it/s 5:32\n",
            "\u001b[K                 Class     Images  Instances      Box(P          R      mAP50  mAP50-95): 100% ━━━━━━━━━━━━ 41/41 8.2it/s 5.0s\n",
            "                   all        646       1447      0.806      0.607      0.714      0.488\n",
            "\n",
            "      Epoch    GPU_mem   box_loss   cls_loss   dfl_loss  Instances       Size\n",
            "\u001b[K     10/100      1.43G      1.294      1.251      1.369          6        640: 100% ━━━━━━━━━━━━ 1841/1841 5.5it/s 5:34\n",
            "\u001b[K                 Class     Images  Instances      Box(P          R      mAP50  mAP50-95): 100% ━━━━━━━━━━━━ 41/41 8.2it/s 5.0s\n",
            "                   all        646       1447       0.75      0.648      0.728      0.495\n",
            "\n",
            "      Epoch    GPU_mem   box_loss   cls_loss   dfl_loss  Instances       Size\n",
            "\u001b[K     11/100      1.44G      1.274      1.218      1.361         37        640: 100% ━━━━━━━━━━━━ 1841/1841 5.6it/s 5:29\n",
            "\u001b[K                 Class     Images  Instances      Box(P          R      mAP50  mAP50-95): 100% ━━━━━━━━━━━━ 41/41 8.5it/s 4.9s\n",
            "                   all        646       1447      0.799      0.622      0.728      0.504\n",
            "\n",
            "      Epoch    GPU_mem   box_loss   cls_loss   dfl_loss  Instances       Size\n",
            "\u001b[K     12/100      1.45G      1.251      1.184      1.337          2        640: 100% ━━━━━━━━━━━━ 1841/1841 5.4it/s 5:40\n",
            "\u001b[K                 Class     Images  Instances      Box(P          R      mAP50  mAP50-95): 100% ━━━━━━━━━━━━ 41/41 6.2it/s 6.6s\n",
            "                   all        646       1447       0.79      0.643      0.747      0.515\n",
            "\n",
            "      Epoch    GPU_mem   box_loss   cls_loss   dfl_loss  Instances       Size\n",
            "\u001b[K     13/100      1.46G      1.241      1.164      1.329          4        640: 100% ━━━━━━━━━━━━ 1841/1841 5.4it/s 5:43\n",
            "\u001b[K                 Class     Images  Instances      Box(P          R      mAP50  mAP50-95): 100% ━━━━━━━━━━━━ 41/41 8.1it/s 5.0s\n",
            "                   all        646       1447      0.781      0.641      0.746       0.53\n",
            "\n",
            "      Epoch    GPU_mem   box_loss   cls_loss   dfl_loss  Instances       Size\n",
            "\u001b[K     14/100      1.47G      1.225      1.141      1.319          9        640: 100% ━━━━━━━━━━━━ 1841/1841 5.3it/s 5:45\n",
            "\u001b[K                 Class     Images  Instances      Box(P          R      mAP50  mAP50-95): 100% ━━━━━━━━━━━━ 41/41 8.0it/s 5.1s\n",
            "                   all        646       1447      0.813      0.668      0.765      0.535\n",
            "\n",
            "      Epoch    GPU_mem   box_loss   cls_loss   dfl_loss  Instances       Size\n",
            "\u001b[K     15/100      1.48G       1.22      1.128       1.32          8        640: 100% ━━━━━━━━━━━━ 1841/1841 5.4it/s 5:42\n",
            "\u001b[K                 Class     Images  Instances      Box(P          R      mAP50  mAP50-95): 100% ━━━━━━━━━━━━ 41/41 6.3it/s 6.5s\n",
            "                   all        646       1447      0.795      0.662      0.755      0.533\n",
            "\n",
            "      Epoch    GPU_mem   box_loss   cls_loss   dfl_loss  Instances       Size\n",
            "\u001b[K     16/100      1.49G      1.201       1.09      1.307          8        640: 100% ━━━━━━━━━━━━ 1841/1841 5.4it/s 5:41\n",
            "\u001b[K                 Class     Images  Instances      Box(P          R      mAP50  mAP50-95): 100% ━━━━━━━━━━━━ 41/41 8.3it/s 4.9s\n",
            "                   all        646       1447      0.808       0.69      0.778      0.548\n",
            "\n",
            "      Epoch    GPU_mem   box_loss   cls_loss   dfl_loss  Instances       Size\n",
            "\u001b[K     17/100      1.51G      1.187      1.084      1.293          6        640: 100% ━━━━━━━━━━━━ 1841/1841 5.4it/s 5:43\n",
            "\u001b[K                 Class     Images  Instances      Box(P          R      mAP50  mAP50-95): 100% ━━━━━━━━━━━━ 41/41 6.4it/s 6.4s\n",
            "                   all        646       1447      0.835       0.68      0.796      0.567\n",
            "\n",
            "      Epoch    GPU_mem   box_loss   cls_loss   dfl_loss  Instances       Size\n",
            "\u001b[K     18/100      1.52G      1.183      1.073      1.294          2        640: 100% ━━━━━━━━━━━━ 1841/1841 5.4it/s 5:43\n",
            "\u001b[K                 Class     Images  Instances      Box(P          R      mAP50  mAP50-95): 100% ━━━━━━━━━━━━ 41/41 7.3it/s 5.6s\n",
            "                   all        646       1447      0.809       0.71      0.799      0.567\n",
            "\n",
            "      Epoch    GPU_mem   box_loss   cls_loss   dfl_loss  Instances       Size\n",
            "\u001b[K     19/100      1.53G      1.176      1.064       1.29          4        640: 100% ━━━━━━━━━━━━ 1841/1841 5.3it/s 5:45\n",
            "\u001b[K                 Class     Images  Instances      Box(P          R      mAP50  mAP50-95): 100% ━━━━━━━━━━━━ 41/41 8.0it/s 5.1s\n",
            "                   all        646       1447      0.843      0.687      0.799      0.575\n",
            "\n",
            "      Epoch    GPU_mem   box_loss   cls_loss   dfl_loss  Instances       Size\n",
            "\u001b[K     20/100      1.54G      1.171      1.047      1.286          2        640: 100% ━━━━━━━━━━━━ 1841/1841 5.3it/s 5:48\n",
            "\u001b[K                 Class     Images  Instances      Box(P          R      mAP50  mAP50-95): 100% ━━━━━━━━━━━━ 41/41 7.0it/s 5.9s\n",
            "                   all        646       1447      0.828      0.708      0.811      0.584\n",
            "\n",
            "      Epoch    GPU_mem   box_loss   cls_loss   dfl_loss  Instances       Size\n",
            "\u001b[K     21/100      1.55G       1.16      1.026      1.276          2        640: 100% ━━━━━━━━━━━━ 1841/1841 5.4it/s 5:41\n",
            "\u001b[K                 Class     Images  Instances      Box(P          R      mAP50  mAP50-95): 100% ━━━━━━━━━━━━ 41/41 8.1it/s 5.0s\n",
            "                   all        646       1447      0.856      0.699      0.818      0.591\n",
            "\n",
            "      Epoch    GPU_mem   box_loss   cls_loss   dfl_loss  Instances       Size\n",
            "\u001b[K     22/100      1.56G      1.153      1.008      1.268          5        640: 100% ━━━━━━━━━━━━ 1841/1841 5.4it/s 5:42\n",
            "\u001b[K                 Class     Images  Instances      Box(P          R      mAP50  mAP50-95): 100% ━━━━━━━━━━━━ 41/41 6.2it/s 6.6s\n",
            "                   all        646       1447      0.851      0.722      0.824        0.6\n",
            "\n",
            "      Epoch    GPU_mem   box_loss   cls_loss   dfl_loss  Instances       Size\n",
            "\u001b[K     23/100      1.58G      1.143      1.001      1.266          5        640: 100% ━━━━━━━━━━━━ 1841/1841 5.4it/s 5:43\n",
            "\u001b[K                 Class     Images  Instances      Box(P          R      mAP50  mAP50-95): 100% ━━━━━━━━━━━━ 41/41 8.2it/s 5.0s\n",
            "                   all        646       1447      0.872      0.713      0.817      0.597\n",
            "\n",
            "      Epoch    GPU_mem   box_loss   cls_loss   dfl_loss  Instances       Size\n",
            "\u001b[K     24/100      1.58G      1.142     0.9914      1.259          8        640: 100% ━━━━━━━━━━━━ 1841/1841 5.4it/s 5:41\n",
            "\u001b[K                 Class     Images  Instances      Box(P          R      mAP50  mAP50-95): 100% ━━━━━━━━━━━━ 41/41 6.5it/s 6.3s\n",
            "                   all        646       1447       0.84      0.743      0.833      0.604\n",
            "\n",
            "      Epoch    GPU_mem   box_loss   cls_loss   dfl_loss  Instances       Size\n",
            "\u001b[K     25/100       1.6G      1.135     0.9934      1.262          6        640: 100% ━━━━━━━━━━━━ 1841/1841 5.4it/s 5:41\n",
            "\u001b[K                 Class     Images  Instances      Box(P          R      mAP50  mAP50-95): 100% ━━━━━━━━━━━━ 41/41 8.1it/s 5.1s\n",
            "                   all        646       1447      0.869      0.723       0.83      0.608\n",
            "\n",
            "      Epoch    GPU_mem   box_loss   cls_loss   dfl_loss  Instances       Size\n",
            "\u001b[K     26/100      1.61G      1.126     0.9779      1.252          7        640: 100% ━━━━━━━━━━━━ 1841/1841 5.4it/s 5:41\n",
            "\u001b[K                 Class     Images  Instances      Box(P          R      mAP50  mAP50-95): 100% ━━━━━━━━━━━━ 41/41 6.1it/s 6.7s\n",
            "                   all        646       1447      0.838      0.752      0.832      0.617\n",
            "\n",
            "      Epoch    GPU_mem   box_loss   cls_loss   dfl_loss  Instances       Size\n",
            "\u001b[K     27/100      1.62G       1.12     0.9631      1.244          5        640: 100% ━━━━━━━━━━━━ 1841/1841 5.2it/s 5:57\n",
            "\u001b[K                 Class     Images  Instances      Box(P          R      mAP50  mAP50-95): 100% ━━━━━━━━━━━━ 41/41 7.9it/s 5.2s\n",
            "                   all        646       1447      0.863      0.737       0.84      0.617\n",
            "\n",
            "      Epoch    GPU_mem   box_loss   cls_loss   dfl_loss  Instances       Size\n",
            "\u001b[K     28/100      1.63G      1.111     0.9475      1.238         14        640: 100% ━━━━━━━━━━━━ 1841/1841 5.4it/s 5:42\n",
            "\u001b[K                 Class     Images  Instances      Box(P          R      mAP50  mAP50-95): 100% ━━━━━━━━━━━━ 41/41 6.7it/s 6.1s\n",
            "                   all        646       1447      0.843      0.755      0.842      0.625\n",
            "\n",
            "      Epoch    GPU_mem   box_loss   cls_loss   dfl_loss  Instances       Size\n",
            "\u001b[K     29/100      1.64G      1.101     0.9337      1.237          8        640: 100% ━━━━━━━━━━━━ 1841/1841 5.4it/s 5:38\n",
            "\u001b[K                 Class     Images  Instances      Box(P          R      mAP50  mAP50-95): 100% ━━━━━━━━━━━━ 41/41 6.3it/s 6.5s\n",
            "                   all        646       1447      0.873      0.736      0.848      0.634\n",
            "\n",
            "      Epoch    GPU_mem   box_loss   cls_loss   dfl_loss  Instances       Size\n",
            "\u001b[K     30/100      1.65G      1.111     0.9392      1.238          5        640: 100% ━━━━━━━━━━━━ 1841/1841 5.4it/s 5:42\n",
            "\u001b[K                 Class     Images  Instances      Box(P          R      mAP50  mAP50-95): 100% ━━━━━━━━━━━━ 41/41 7.7it/s 5.3s\n",
            "                   all        646       1447      0.864      0.759      0.848      0.632\n",
            "\n",
            "      Epoch    GPU_mem   box_loss   cls_loss   dfl_loss  Instances       Size\n",
            "\u001b[K     31/100      1.67G      1.092     0.9153      1.226          6        640: 100% ━━━━━━━━━━━━ 1841/1841 5.4it/s 5:42\n",
            "\u001b[K                 Class     Images  Instances      Box(P          R      mAP50  mAP50-95): 100% ━━━━━━━━━━━━ 41/41 6.3it/s 6.5s\n",
            "                   all        646       1447       0.86      0.749       0.85      0.637\n",
            "\n",
            "      Epoch    GPU_mem   box_loss   cls_loss   dfl_loss  Instances       Size\n",
            "\u001b[K     32/100      1.67G      1.097     0.9196       1.23          9        640: 100% ━━━━━━━━━━━━ 1841/1841 5.4it/s 5:38\n",
            "\u001b[K                 Class     Images  Instances      Box(P          R      mAP50  mAP50-95): 100% ━━━━━━━━━━━━ 41/41 7.1it/s 5.8s\n",
            "                   all        646       1447      0.899      0.745      0.855       0.64\n",
            "\n",
            "      Epoch    GPU_mem   box_loss   cls_loss   dfl_loss  Instances       Size\n",
            "\u001b[K     33/100      1.69G      1.091     0.9065      1.227          4        640: 100% ━━━━━━━━━━━━ 1841/1841 5.4it/s 5:40\n",
            "\u001b[K                 Class     Images  Instances      Box(P          R      mAP50  mAP50-95): 100% ━━━━━━━━━━━━ 41/41 8.0it/s 5.1s\n",
            "                   all        646       1447      0.885      0.737       0.85      0.637\n",
            "\n",
            "      Epoch    GPU_mem   box_loss   cls_loss   dfl_loss  Instances       Size\n",
            "\u001b[K     34/100       1.7G      1.081     0.8923      1.215          2        640: 100% ━━━━━━━━━━━━ 1841/1841 5.4it/s 5:44\n",
            "\u001b[K                 Class     Images  Instances      Box(P          R      mAP50  mAP50-95): 100% ━━━━━━━━━━━━ 41/41 8.3it/s 4.9s\n",
            "                   all        646       1447      0.879       0.76      0.862      0.646\n",
            "\n",
            "      Epoch    GPU_mem   box_loss   cls_loss   dfl_loss  Instances       Size\n",
            "\u001b[K     35/100      1.72G       1.08     0.8908      1.217         18        640: 100% ━━━━━━━━━━━━ 1841/1841 5.4it/s 5:38\n",
            "\u001b[K                 Class     Images  Instances      Box(P          R      mAP50  mAP50-95): 100% ━━━━━━━━━━━━ 41/41 7.3it/s 5.6s\n",
            "                   all        646       1447      0.864      0.765      0.855      0.642\n",
            "\n",
            "      Epoch    GPU_mem   box_loss   cls_loss   dfl_loss  Instances       Size\n",
            "\u001b[K     36/100      1.72G      1.069     0.8789      1.211          7        640: 100% ━━━━━━━━━━━━ 1841/1841 5.4it/s 5:43\n",
            "\u001b[K                 Class     Images  Instances      Box(P          R      mAP50  mAP50-95): 100% ━━━━━━━━━━━━ 41/41 8.2it/s 5.0s\n",
            "                   all        646       1447       0.88       0.78      0.868      0.652\n",
            "\n",
            "      Epoch    GPU_mem   box_loss   cls_loss   dfl_loss  Instances       Size\n",
            "\u001b[K     37/100      1.74G      1.076     0.8796      1.214          6        640: 100% ━━━━━━━━━━━━ 1841/1841 5.4it/s 5:38\n",
            "\u001b[K                 Class     Images  Instances      Box(P          R      mAP50  mAP50-95): 100% ━━━━━━━━━━━━ 41/41 6.2it/s 6.6s\n",
            "                   all        646       1447      0.879      0.773      0.864      0.653\n",
            "\n",
            "      Epoch    GPU_mem   box_loss   cls_loss   dfl_loss  Instances       Size\n",
            "\u001b[K     38/100      1.75G       1.06     0.8701      1.204          4        640: 100% ━━━━━━━━━━━━ 1841/1841 5.4it/s 5:43\n",
            "\u001b[K                 Class     Images  Instances      Box(P          R      mAP50  mAP50-95): 100% ━━━━━━━━━━━━ 41/41 8.0it/s 5.1s\n",
            "                   all        646       1447       0.86      0.791      0.867      0.653\n",
            "\n",
            "      Epoch    GPU_mem   box_loss   cls_loss   dfl_loss  Instances       Size\n",
            "\u001b[K     39/100      1.76G      1.058     0.8615      1.205          4        640: 100% ━━━━━━━━━━━━ 1841/1841 5.4it/s 5:40\n",
            "\u001b[K                 Class     Images  Instances      Box(P          R      mAP50  mAP50-95): 100% ━━━━━━━━━━━━ 41/41 6.4it/s 6.4s\n",
            "                   all        646       1447      0.884      0.785      0.869      0.653\n",
            "\n",
            "      Epoch    GPU_mem   box_loss   cls_loss   dfl_loss  Instances       Size\n",
            "\u001b[K     40/100      1.76G      1.053     0.8574      1.197         13        640: 100% ━━━━━━━━━━━━ 1841/1841 5.4it/s 5:43\n",
            "\u001b[K                 Class     Images  Instances      Box(P          R      mAP50  mAP50-95): 100% ━━━━━━━━━━━━ 41/41 8.2it/s 5.0s\n",
            "                   all        646       1447      0.884      0.782      0.872      0.661\n",
            "\n",
            "      Epoch    GPU_mem   box_loss   cls_loss   dfl_loss  Instances       Size\n",
            "\u001b[K     41/100      1.78G      1.047     0.8385       1.19          8        640: 100% ━━━━━━━━━━━━ 1841/1841 5.4it/s 5:43\n",
            "\u001b[K                 Class     Images  Instances      Box(P          R      mAP50  mAP50-95): 100% ━━━━━━━━━━━━ 41/41 6.3it/s 6.5s\n",
            "                   all        646       1447      0.891       0.79      0.873      0.663\n",
            "\n",
            "      Epoch    GPU_mem   box_loss   cls_loss   dfl_loss  Instances       Size\n",
            "\u001b[K     42/100      1.79G      1.044      0.838      1.195         14        640: 100% ━━━━━━━━━━━━ 1841/1841 5.4it/s 5:41\n",
            "\u001b[K                 Class     Images  Instances      Box(P          R      mAP50  mAP50-95): 100% ━━━━━━━━━━━━ 41/41 8.0it/s 5.1s\n",
            "                   all        646       1447        0.9      0.784      0.877      0.665\n",
            "\n",
            "      Epoch    GPU_mem   box_loss   cls_loss   dfl_loss  Instances       Size\n",
            "\u001b[K     43/100       1.8G      1.044     0.8387      1.194          6        640: 100% ━━━━━━━━━━━━ 1841/1841 5.4it/s 5:39\n",
            "\u001b[K                 Class     Images  Instances      Box(P          R      mAP50  mAP50-95): 100% ━━━━━━━━━━━━ 41/41 6.6it/s 6.2s\n",
            "                   all        646       1447      0.888       0.79      0.875      0.665\n",
            "\n",
            "      Epoch    GPU_mem   box_loss   cls_loss   dfl_loss  Instances       Size\n",
            "\u001b[K     44/100      1.82G      1.039     0.8296      1.189          6        640: 100% ━━━━━━━━━━━━ 1841/1841 5.3it/s 5:47\n",
            "\u001b[K                 Class     Images  Instances      Box(P          R      mAP50  mAP50-95): 100% ━━━━━━━━━━━━ 41/41 7.8it/s 5.2s\n",
            "                   all        646       1447       0.89      0.797      0.879      0.668\n",
            "\n",
            "      Epoch    GPU_mem   box_loss   cls_loss   dfl_loss  Instances       Size\n",
            "\u001b[K     45/100      1.83G      1.032     0.8314      1.186          5        640: 100% ━━━━━━━━━━━━ 1841/1841 5.3it/s 5:48\n",
            "\u001b[K                 Class     Images  Instances      Box(P          R      mAP50  mAP50-95): 100% ━━━━━━━━━━━━ 41/41 6.6it/s 6.2s\n",
            "                   all        646       1447      0.892      0.789      0.878      0.669\n",
            "\n",
            "      Epoch    GPU_mem   box_loss   cls_loss   dfl_loss  Instances       Size\n",
            "\u001b[K     46/100      1.83G      1.022     0.8137      1.178         18        640: 66% ━━━━━━━╸──── 1208/1841 4.5it/s 3:46<2:19"
          ]
        }
      ]
    },
    {
      "cell_type": "markdown",
      "source": [
        "## 5.1 Training Parameters\n",
        "Now that the data is organized and the config file is created, we're ready to start training! First, there are a few important parameters to decide on. Visit my article on [Training YOLO Models Locally](https://www.ejtech.io/learn/train-yolo-models) to learn more about these parameters and how to choose them.\n",
        "\n",
        "**Model architecture & size (`model`):**\n",
        "\n",
        "There are several YOLO11 models sizes available to train, including `yolo11n.pt`, `yolo11s.pt`, `yolo11m.pt`, `yolo11l.pt`, and `yolo11xl.pt`. Larger models run slower but have higher accuracy, while smaller models run faster but have lower accuracy. I made a brief YouTube video that compares performance of different YOLO models on a Raspberry Pi 5 and a laptop with a RTX 4050 GPU, [check it out here to get a sense of their speed accuracy](https://youtu.be/_WKS4E9SmkA). If you aren't sure which model size to use, `yolo11s.pt` is a good starting point.\n",
        "\n",
        "You can also train YOLOv8 or YOLOv5 models by substituting `yolo11` for `yolov8` or `yolov5`.\n",
        "\n",
        "\n",
        "**Number of epochs (`epochs`)**\n",
        "\n",
        "In machine learning, one “epoch” is one single pass through the full training dataset. Setting the number of epochs dictates how long the model will train for. The best amount of epochs to use depends on the size of the dataset and the model architecture. If your dataset has less than 200 images, a good starting point is 60 epochs. If your dataset has more than 200 images, a good starting point is 40 epochs.\n",
        "\n",
        "\n",
        "**Resolution (`imgsz`)**\n",
        "\n",
        "Resolution has a large impact on the speed and accuracy of the model: a lower resolution model will have higher speed but less accuracy. YOLO models are typically trained and inferenced at a 640x640 resolution. However, if you want your model to run faster or know you will be working with low-resolution images, try using a lower resolution like 480x480.\n"
      ],
      "metadata": {
        "id": "DfKspYasCzC8"
      }
    },
    {
      "cell_type": "markdown",
      "source": [
        "## 5.2 Run Training!"
      ],
      "metadata": {
        "id": "V17UjYU5ZQdR"
      }
    },
    {
      "cell_type": "markdown",
      "source": [
        "Run the following code block to begin training. If you want to use a different model, number of epochs, or resolution, change `model`, `epochs`, or `imgsz`."
      ],
      "metadata": {
        "id": "nQi_hXnUVPr-"
      }
    },
    {
      "cell_type": "code",
      "execution_count": null,
      "metadata": {
        "id": "8bbpob1gTPlo"
      },
      "outputs": [],
      "source": [
        "!yolo detect train data=/content/data.yaml model=yolo11s.pt epochs=60 imgsz=640"
      ]
    },
    {
      "cell_type": "markdown",
      "source": [
        "The training algorithm will parse the images in the training and validation directories and then start training the model. At the end of each training epoch, the program runs the model on the validation dataset and reports the resulting mAP, precision, and recall. As training continues, the mAP should generally increase with each epoch. Training will end once it goes through the number of epochs specified by `epochs`.\n",
        "\n",
        "> **NOTE:** Make sure to allow training to run to completion, because an optimizer runs at the end of training that strips out unneeded layers from the model.\n",
        "\n",
        "The best trained model weights will be saved in `content/runs/detect/train/weights/best.pt`. Additional information about training is saved in the `content/runs/detect/train` folder, including a `results.png` file that shows how loss, precision, recall, and mAP progressed over each epoch."
      ],
      "metadata": {
        "id": "vv0EYWJ5V6mC"
      }
    },
    {
      "cell_type": "markdown",
      "metadata": {
        "id": "vo8BJRXeg0Ap"
      },
      "source": [
        "#6.&nbsp;Test Model"
      ]
    },
    {
      "cell_type": "markdown",
      "source": [
        "The model has been trained; now it's time to test it! The commands below run the model on the images in the validation folder and then display the results for the first 10 images. This is a good way to confirm your model is working as expected. Click Play on the blocks below to see how your model performs."
      ],
      "metadata": {
        "id": "BX3PTrEPacGY"
      }
    },
    {
      "cell_type": "code",
      "execution_count": null,
      "metadata": {
        "id": "PooP5Vjsg2Jn"
      },
      "outputs": [],
      "source": [
        "!yolo detect predict model=runs/detect/train/weights/best.pt source=data/validation/images save=True"
      ]
    },
    {
      "cell_type": "code",
      "execution_count": null,
      "metadata": {
        "id": "zEEObQqoiGrs"
      },
      "outputs": [],
      "source": [
        "import glob\n",
        "from IPython.display import Image, display\n",
        "for image_path in glob.glob(f'/content/runs/detect/predict/*.jpg')[:10]:\n",
        "  display(Image(filename=image_path, height=400))\n",
        "  print('\\n')\n"
      ]
    },
    {
      "cell_type": "markdown",
      "source": [
        "The model should draw a box around each object of interest in each image. If it isn't doing a good job of detecting objects, here are a few tips:\n",
        "\n",
        "1. Double-check your dataset to make sure there are no labeling errors or conflicting examples.\n",
        "2. Increase the number of epochs used for training.\n",
        "3. Use a larger model size (e.g. `yolo11l.pt`).\n",
        "4. Add more images to the training dataset. See my [dataset video](https://www.youtube.com/watch?v=v0ssiOY6cfg) for tips on how to capture good training images and improve accuracy.\n",
        "\n",
        "You can also run the model on video files or other images images by uploading them to this notebook and using the above `!yolo detect predict` command, where `source` points to the location of the video file, image, or folder of images. The results will be saved in `runs/detect/predict`.\n",
        "\n",
        "Drawing boxes on images is great, but it isn't very useful in itself. It's also not very helpful to just run this models inside a Colab notebook: it's easier if we can just run it on a local computer. Continue to the next section to see how to download your newly trained model and run it on a local device."
      ],
      "metadata": {
        "id": "EGiQw_gWbSBa"
      }
    },
    {
      "cell_type": "markdown",
      "metadata": {
        "id": "W7yrFRViVczX"
      },
      "source": [
        "#7.&nbsp;Deploy Model"
      ]
    },
    {
      "cell_type": "markdown",
      "source": [
        "Now that your custom model has been trained, it's ready to be downloaded and deployed in an application! YOLO models can run on a wide variety of hardware, including PCs, embedded systems, and phones. Ultralytics makes it easy to convert the YOLO models to various formats (`tflite`, `onnx`, etc.) and deploy them in a variety of environments.\n",
        "\n",
        "This section shows how to download the model and provides links to instructions for deploying it on your PC and edge devices like the Raspberry Pi."
      ],
      "metadata": {
        "id": "FEtybPmB_ERi"
      }
    },
    {
      "cell_type": "markdown",
      "source": [
        "## 7.1 Download YOLO Model\n",
        "\n",
        "First, zip and download the trained model by running the code blocks below.\n",
        "\n",
        "The code creates a folder named `my_model`, moves the model weights into it, and renames them from `best.pt` to `my_model.pt`. It also adds the training results in case you want to reference them later. It then zips the folder as `my_model.zip`."
      ],
      "metadata": {
        "id": "IcoBAeHXa86W"
      }
    },
    {
      "cell_type": "code",
      "source": [
        "# Create \"my_model\" folder to store model weights and train results\n",
        "!mkdir /content/my_model\n",
        "!cp /content/runs/detect/train/weights/best.pt /content/my_model/my_model.pt\n",
        "!cp -r /content/runs/detect/train /content/my_model\n",
        "\n",
        "# Zip into \"my_model.zip\"\n",
        "%cd my_model\n",
        "!zip /content/my_model.zip my_model.pt\n",
        "!zip -r /content/my_model.zip train\n",
        "%cd /content"
      ],
      "metadata": {
        "id": "qcBdnOA9v85S"
      },
      "execution_count": null,
      "outputs": []
    },
    {
      "cell_type": "code",
      "execution_count": null,
      "metadata": {
        "id": "43ypwonynLVu"
      },
      "outputs": [],
      "source": [
        "# This takes forever for some reason, you can also just download the model from the sidebar\n",
        "from google.colab import files\n",
        "\n",
        "files.download('/content/my_model.zip')"
      ]
    },
    {
      "cell_type": "markdown",
      "source": [
        "## 7.2 Deploy YOLO Model on Local Devices\n",
        "\n",
        "Next, we'll take our downloaded model and run it on a local device. This section provides instructions showing how to deploy YOLO models on various devices.\n",
        "\n",
        "I wrote a basic Python script, `yolo_detect.py`, that shows how to load a model, run inference on an image source, parse the inference results, and display boxes around each detected class in the image. The [script](https://github.com/EdjeElectronics/Train-and-Deploy-YOLO-Models/blob/main/yolo_detect.py) gives an example of how to work with Ultralytics YOLO models in Python, and it can be used as a starting point for more advanced applications."
      ],
      "metadata": {
        "id": "YL06c6pb_UqZ"
      }
    },
    {
      "cell_type": "markdown",
      "source": [
        "### 7.2.1 Deploy on PC (Windows, Linux, or macOS)\n",
        "\n",
        "The easiest way to run Ultralytics models on a PC is using Anaconda. Anaconda sets up a virtual Python environment and allows you to easily install Ultralytics and PyTorch. It automatically installs CUDA and cuDNN, which allows you to speed up model inference with your NVIDIA GPU.\n",
        "\n",
        "> **NOTE:** My YouTube video (link to be added) shows how to deploy your model on a PC. It walks through the following steps, so watch the video if you prefer having visual instructions.\n",
        "\n",
        "**1. Download and Install Anaconda**\n",
        "\n",
        "Go to the Anaconda download page at https://anaconda.com/download, click the “skip registration” button, and then download the package for your OS. When it's finished downloading, run the installer and click through the installation steps. You can use the default options for installation.\n",
        "\n",
        "**2. Set up virtual environment**\n",
        "\n",
        "Once it's installed, run Anaconda Prompt from the Start Bar. (If you're on macOS or Linux, just open a command terminal).\n",
        "\n",
        "Issue the following commands to create a new Python environment and activate it:\n",
        "\n",
        "```\n",
        "conda create --name yolo-env1 python=3.12 -y\n",
        "conda activate yolo-env1\n",
        "```\n",
        "\n",
        "Install Ultralytics (which also installs import libraries like OpenCV-Python, Numpy, and PyTorch) by issuing the following command:\n",
        "\n",
        "```\n",
        "pip install ultralytics\n",
        "```\n",
        "\n",
        "If you have an NVIDIA GPU, you can install the GPU-enabled version of PyTorch by issuing the following command:\n",
        "\n",
        "```\n",
        "pip install --upgrade torch torchvision torchaudio --index-url https://download.pytorch.org/whl/cu124\n",
        "```\n",
        "\n",
        "**3. Extract downloaded model**\n",
        "Take the `my_model.zip` file you downloaded in Step 7.1 and unzip it to a folder on your PC. In the Anaconda Prompt terminal, move into the unzipped folder using:\n",
        "\n",
        "```\n",
        "cd path/to/folder\n",
        "```\n",
        "\n",
        "**4. Download and run yolo_detect.py**\n",
        "\n",
        "Download the `yolo_detect.py` script into the `my_model` folder using:\n",
        "\n",
        "```\n",
        "curl -o yolo_detect.py https://raw.githubusercontent.com/EdjeElectronics/Train-and-Deploy-YOLO-Models/refs/heads/main/yolo_detect.py\n",
        "```\n",
        "\n",
        "Alright! We're ready to run the script. To run inference with a yolov8s model on a USB camera at 1280x720 resolution, issue:\n",
        "\n",
        "```\n",
        "python yolo_detect.py --model my_model.pt --source usb0 --resolution 1280x720\n",
        "```\n",
        "\n",
        "A window will appear showing a live feed from your webcam with boxes drawn around detected objects in each frame.\n",
        "\n",
        "You can also run the model on an video file, image, or folder of images. To see a full list of arguments for `yolo_detect.py`, issue `python yolo_detect.py --help` or see the [README file](https://github.com/EdjeElectronics/Train-and-Deploy-YOLO-Models/blob/main/README.md).\n",
        "\n",
        "\n"
      ],
      "metadata": {
        "id": "gzaJQ2sGEPhP"
      }
    },
    {
      "cell_type": "markdown",
      "source": [
        "### 7.2.2 Deploy on Raspberry Pi\n",
        "\n",
        "Keep an eye out for an article showing how to convert YOLO models to NCNN format and run them on the Raspberry Pi!"
      ],
      "metadata": {
        "id": "GelkpRLPEYmJ"
      }
    },
    {
      "cell_type": "markdown",
      "source": [
        "# 8.&nbsp;Conclusion"
      ],
      "metadata": {
        "id": "y8fOJ4g8Q5x0"
      }
    },
    {
      "cell_type": "markdown",
      "source": [
        "Congratulations! You've successfully trained and deployed a YOLO object detection model. 😀\n",
        "\n",
        "Next, you can extend your application beyond just drawing boxes and counting objects. Add functionality like logging the number of objects detected over time or taking a picture when certain objects are detected. Check out some example applications at our GitHub repository: https://github.com/EdjeElectronics/Train-and-Deploy-YOLO-Models\n",
        "\n",
        "Thanks for working through this notebook, and good luck with your projects!"
      ],
      "metadata": {
        "id": "DEZGuG1-Peg5"
      }
    },
    {
      "cell_type": "markdown",
      "source": [
        "# Appendix: Common Errors"
      ],
      "metadata": {
        "id": "fXeDs6SaQBRy"
      }
    },
    {
      "cell_type": "markdown",
      "source": [
        "If you run into any errors working through this notebook, please do the following:\n",
        "\n",
        "\n",
        "- Double-check that the dataset files are set up in the correct folder structure\n",
        "- Make sure there are no typos or errors in your labelmap file\n",
        "- Google search the error to look for solutions\n",
        "\n",
        "If none of those help, please submit an [Issue](https://github.com/EdjeElectronics/Train-and-Deploy-YOLO-Models/issues) on the GitHub page. In this section, I will add resolutions to common errors as they come up."
      ],
      "metadata": {
        "id": "Q19ENCHRQOCH"
      }
    }
  ],
  "metadata": {
    "accelerator": "GPU",
    "colab": {
      "gpuType": "T4",
      "provenance": [],
      "include_colab_link": true
    },
    "kernelspec": {
      "display_name": "Python 3",
      "name": "python3"
    },
    "language_info": {
      "name": "python"
    }
  },
  "nbformat": 4,
  "nbformat_minor": 0
}